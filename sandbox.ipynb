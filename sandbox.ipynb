{
 "cells": [
  {
   "cell_type": "code",
   "execution_count": 3,
   "metadata": {},
   "outputs": [],
   "source": [
    "import pathlib\n",
    "from typing import *\n",
    "\n",
    "import torch\n",
    "import torch.nn as nn\n",
    "import torch.nn.functional as F\n",
    "import numpy as np\n",
    "import cv2 as cv\n",
    "import pandas as pd\n",
    "import matplotlib.pyplot as plt\n",
    "from torchsummary import summary\n",
    "from matplotlib import rc\n",
    "\n",
    "%matplotlib inline\n",
    "\n",
    "%load_ext autoreload\n",
    "%autoreload 2\n",
    "\n",
    "font = {'family': 'Times New Roman', 'weight': 'bold', 'size': 12}\n",
    "rc('font', **font)"
   ]
  },
  {
   "cell_type": "code",
   "execution_count": 4,
   "metadata": {},
   "outputs": [
    {
     "name": "stdout",
     "output_type": "stream",
     "text": [
      "tensor(1)\n"
     ]
    },
    {
     "data": {
      "text/plain": [
       "(tensor([True]), tensor(0), tensor(1))"
      ]
     },
     "execution_count": 4,
     "metadata": {},
     "output_type": "execute_result"
    }
   ],
   "source": [
    "n = 1\n",
    "ids_all = []\n",
    "\n",
    "for _ in range(n):\n",
    "    m = torch.randint(1, 2, (1,))\n",
    "    vals = 2 * torch.rand(m).round().int() - 1\n",
    "    ids_all.append(vals)\n",
    "\n",
    "subset_size = 10\n",
    "\n",
    "pos_mask = torch.cat([ids > 0 for ids in ids_all])\n",
    "subset_mask = pos_mask\n",
    "n_pos = torch.sum(pos_mask)\n",
    "n_rem_neg = max(subset_size - n_pos, 0)\n",
    "if n_rem_neg > 0:\n",
    "    neg_mask = ~pos_mask\n",
    "    neg_idxs = torch.atleast_1d(torch.squeeze(neg_mask.nonzero()))\n",
    "    rand_idxs = torch.randperm(len(neg_idxs))[:n_rem_neg]\n",
    "    neg_mask_subset = torch.zeros_like(neg_mask)\n",
    "    neg_idxs_subset = neg_idxs[rand_idxs]\n",
    "    neg_mask_subset[neg_idxs_subset] = True\n",
    "    subset_mask = subset_mask | neg_mask_subset\n",
    "    print(torch.sum(neg_mask_subset))\n",
    "\n",
    "subset_mask, torch.sum(pos_mask), torch.sum(subset_mask)\n"
   ]
  },
  {
   "cell_type": "code",
   "execution_count": 5,
   "metadata": {},
   "outputs": [
    {
     "data": {
      "text/plain": [
       "tensor([1, 0, 1, 1, 0, 1], dtype=torch.int32)"
      ]
     },
     "execution_count": 5,
     "metadata": {},
     "output_type": "execute_result"
    }
   ],
   "source": [
    "t = torch.as_tensor([1, 0, 1, 1, 0, 1]).int()\n",
    "t"
   ]
  },
  {
   "cell_type": "code",
   "execution_count": 6,
   "metadata": {},
   "outputs": [
    {
     "data": {
      "text/plain": [
       "(tensor([1, 0, 1, 1, 0, 1], dtype=torch.int32),\n",
       " tensor([2, 5]),\n",
       " tensor([1, 0, 0, 1, 0, 0], dtype=torch.int32))"
      ]
     },
     "execution_count": 6,
     "metadata": {},
     "output_type": "execute_result"
    }
   ],
   "source": [
    "n_rem_neg = 2\n",
    "neg_idxs = torch.squeeze(t.nonzero())\n",
    "rand_idxs = torch.randperm(len(neg_idxs))[:n_rem_neg]\n",
    "neg_idxs_subset = neg_idxs[rand_idxs]\n",
    "neg_mask = t.clone()\n",
    "neg_mask[neg_idxs_subset] = False\n",
    "t, neg_idxs_subset, neg_mask"
   ]
  },
  {
   "cell_type": "code",
   "execution_count": 8,
   "metadata": {},
   "outputs": [
    {
     "data": {
      "text/plain": [
       "tensor([0, 2])"
      ]
     },
     "execution_count": 8,
     "metadata": {},
     "output_type": "execute_result"
    }
   ],
   "source": [
    "m = torch.as_tensor([1, 0, 1, 0]).float()\n",
    "b = torch.as_tensor(m, dtype=torch.bool)\n",
    "torch.squeeze(b.nonzero())"
   ]
  },
  {
   "cell_type": "code",
   "execution_count": 88,
   "metadata": {},
   "outputs": [
    {
     "data": {
      "text/plain": [
       "True"
      ]
     },
     "execution_count": 88,
     "metadata": {},
     "output_type": "execute_result"
    }
   ],
   "source": [
    "B = 4\n",
    "C = 2\n",
    "S = 2\n",
    "\n",
    "data = torch.rand((B, C, S, S))\n",
    "src = torch.ones((B // 2, C, S, S))\n",
    "index = torch.as_tensor([0, 2])\n",
    "res_1 = torch.index_add(input=data, dim=0, index=index, source=src)\n",
    "res_2 = data.clone()\n",
    "res_2[index, ...] += src\n",
    "torch.allclose(res_1, res_2)"
   ]
  },
  {
   "cell_type": "code",
   "execution_count": 95,
   "metadata": {},
   "outputs": [
    {
     "data": {
      "text/plain": [
       "tensor([ True, False, False,  True, False,  True,  True, False, False,  True,\n",
       "        False,  True, False, False,  True])"
      ]
     },
     "execution_count": 95,
     "metadata": {},
     "output_type": "execute_result"
    }
   ],
   "source": [
    "a = torch.as_tensor([1, 0, 0, 1, 0, 1]).float()\n",
    "b = torch.as_tensor([1, 0, 0, 1, 0]).float()\n",
    "c = torch.as_tensor([1, 0, 0, 1]).float()\n",
    "t = torch.cat([e for e in [a, b, c]]).bool()\n",
    "t"
   ]
  }
 ],
 "metadata": {
  "interpreter": {
   "hash": "f91a5d6e4747d83f2ca8abaaaf7aacd52eac54e528eee770e3eb228d51a3694d"
  },
  "kernelspec": {
   "display_name": "Python 3.7.9 64-bit (system)",
   "language": "python",
   "name": "python3"
  },
  "language_info": {
   "codemirror_mode": {
    "name": "ipython",
    "version": 3
   },
   "file_extension": ".py",
   "mimetype": "text/x-python",
   "name": "python",
   "nbconvert_exporter": "python",
   "pygments_lexer": "ipython3",
   "version": "3.6.9"
  },
  "orig_nbformat": 4
 },
 "nbformat": 4,
 "nbformat_minor": 2
}
