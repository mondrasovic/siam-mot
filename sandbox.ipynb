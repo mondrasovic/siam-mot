{
 "cells": [
  {
   "cell_type": "code",
   "execution_count": 3,
   "metadata": {},
   "outputs": [
    {
     "name": "stdout",
     "output_type": "stream",
     "text": [
      "The autoreload extension is already loaded. To reload it, use:\n",
      "  %reload_ext autoreload\n"
     ]
    }
   ],
   "source": [
    "import functools\n",
    "import itertools\n",
    "import pathlib\n",
    "from typing import *\n",
    "\n",
    "import torch\n",
    "import torch.nn as nn\n",
    "import torch.nn.functional as F\n",
    "import numpy as np\n",
    "import cv2 as cv\n",
    "import pandas as pd\n",
    "import matplotlib.pyplot as plt\n",
    "from torchsummary import summary\n",
    "from matplotlib import rc\n",
    "\n",
    "%matplotlib inline\n",
    "\n",
    "%load_ext autoreload\n",
    "%autoreload 2\n",
    "\n",
    "font = {'family': 'Times New Roman', 'weight': 'bold', 'size': 12}\n",
    "rc('font', **font)"
   ]
  },
  {
   "cell_type": "code",
   "execution_count": 8,
   "metadata": {},
   "outputs": [
    {
     "name": "stdout",
     "output_type": "stream",
     "text": [
      "Device: 0\n",
      "\tcmd --id 1 --local_rank 0 MODEL.DEVICE \"CUDA:0\"\n",
      "\tcmd --id 3 --local_rank 0 MODEL.DEVICE \"CUDA:0\"\n",
      "\tcmd --id 5 --local_rank 0 MODEL.DEVICE \"CUDA:0\"\n",
      "\tcmd --id 7 --local_rank 0 MODEL.DEVICE \"CUDA:0\"\n",
      "\tcmd --id 9 --local_rank 0 MODEL.DEVICE \"CUDA:0\"\n",
      "Device: 1\n",
      "\tcmd --id 2 --local_rank 1 MODEL.DEVICE \"CUDA:1\"\n",
      "\tcmd --id 4 --local_rank 1 MODEL.DEVICE \"CUDA:1\"\n",
      "\tcmd --id 6 --local_rank 1 MODEL.DEVICE \"CUDA:1\"\n",
      "\tcmd --id 8 --local_rank 1 MODEL.DEVICE \"CUDA:1\"\n",
      "\tcmd --id 10 --local_rank 1 MODEL.DEVICE \"CUDA:1\"\n"
     ]
    }
   ],
   "source": [
    "n_cmds = 10\n",
    "n_files = 3\n",
    "local_ranks = [0, 1]\n",
    "local_ranks_iter = itertools.cycle(local_ranks)\n",
    "cmds = []\n",
    "\n",
    "for i in range(1, n_cmds + 1):\n",
    "    local_rank = next(local_ranks_iter)\n",
    "    cmd = f'cmd --id {i} --local_rank {local_rank} MODEL.DEVICE \\\"CUDA:{local_rank}\\\"'\n",
    "    cmds.append(cmd)\n",
    "\n",
    "def get_cmd_cuda_device(cmd):\n",
    "    cuda_str = \"CUDA:\"\n",
    "    pos = cmd.find(cuda_str)\n",
    "    \n",
    "    if pos < 0:\n",
    "        device_id = 0\n",
    "    else:\n",
    "        id_pos = pos + len(cuda_str)\n",
    "        device_id = int(cmd[id_pos:id_pos + 1])\n",
    "    \n",
    "    return device_id\n",
    "\n",
    "cmds_sorted = sorted(cmds, key=get_cmd_cuda_device)\n",
    "for cuda_device, cmd_cuda_group in itertools.groupby(cmds_sorted, key=get_cmd_cuda_device):\n",
    "    print(f\"Device: {cuda_device}\")\n",
    "    for cmd in cmd_cuda_group:\n",
    "        print(f\"\\t{cmd}\")\n",
    "    "
   ]
  },
  {
   "cell_type": "code",
   "execution_count": 53,
   "metadata": {},
   "outputs": [
    {
     "ename": "ImportError",
     "evalue": "cannot import name 'divmod'",
     "output_type": "error",
     "traceback": [
      "\u001b[0;31m---------------------------------------------------------------------------\u001b[0m",
      "\u001b[0;31mImportError\u001b[0m                               Traceback (most recent call last)",
      "\u001b[0;32m<ipython-input-53-e90d71ac4ba8>\u001b[0m in \u001b[0;36m<module>\u001b[0;34m\u001b[0m\n\u001b[0;32m----> 1\u001b[0;31m \u001b[0;32mfrom\u001b[0m \u001b[0mmath\u001b[0m \u001b[0;32mimport\u001b[0m \u001b[0mceil\u001b[0m\u001b[0;34m,\u001b[0m \u001b[0mfloor\u001b[0m\u001b[0;34m,\u001b[0m \u001b[0mdivmod\u001b[0m\u001b[0;34m\u001b[0m\u001b[0;34m\u001b[0m\u001b[0m\n\u001b[0m\u001b[1;32m      2\u001b[0m \u001b[0;34m\u001b[0m\u001b[0m\n\u001b[1;32m      3\u001b[0m \u001b[0mn_files\u001b[0m \u001b[0;34m=\u001b[0m \u001b[0;36m6\u001b[0m\u001b[0;34m\u001b[0m\u001b[0;34m\u001b[0m\u001b[0m\n\u001b[1;32m      4\u001b[0m \u001b[0mn_files_portion_pool\u001b[0m \u001b[0;34m=\u001b[0m \u001b[0mfloat\u001b[0m\u001b[0;34m(\u001b[0m\u001b[0mn_files\u001b[0m\u001b[0;34m)\u001b[0m\u001b[0;34m\u001b[0m\u001b[0;34m\u001b[0m\u001b[0m\n\u001b[1;32m      5\u001b[0m \u001b[0mgroup_sizes\u001b[0m \u001b[0;34m=\u001b[0m \u001b[0;34m[\u001b[0m\u001b[0;36m12\u001b[0m\u001b[0;34m,\u001b[0m \u001b[0;36m4\u001b[0m\u001b[0;34m]\u001b[0m\u001b[0;34m\u001b[0m\u001b[0;34m\u001b[0m\u001b[0m\n",
      "\u001b[0;31mImportError\u001b[0m: cannot import name 'divmod'"
     ]
    }
   ],
   "source": [
    "from math import ceil, floor\n",
    "\n",
    "n_files = 6\n",
    "n_files_portion_pool = float(n_files)\n",
    "group_sizes = [12, 4]\n",
    "for group_size in group_sizes:\n",
    "    n_curr_files_portion = (group_size / sum(group_sizes)) * n_files\n",
    "    n_curr_files = int(round(n_curr_files_portion))\n",
    "    print(n_curr_files, n_curr_files_portion)"
   ]
  },
  {
   "cell_type": "code",
   "execution_count": 51,
   "metadata": {},
   "outputs": [
    {
     "data": {
      "text/plain": [
       "[array(['cmd --id 1 --local_rank 0 MODEL.DEVICE \"CUDA:0\"',\n",
       "        'cmd --id 2 --local_rank 1 MODEL.DEVICE \"CUDA:1\"',\n",
       "        'cmd --id 3 --local_rank 0 MODEL.DEVICE \"CUDA:0\"',\n",
       "        'cmd --id 4 --local_rank 1 MODEL.DEVICE \"CUDA:1\"'], dtype='<U48'),\n",
       " array(['cmd --id 5 --local_rank 0 MODEL.DEVICE \"CUDA:0\"',\n",
       "        'cmd --id 6 --local_rank 1 MODEL.DEVICE \"CUDA:1\"',\n",
       "        'cmd --id 7 --local_rank 0 MODEL.DEVICE \"CUDA:0\"'], dtype='<U48'),\n",
       " array(['cmd --id 8 --local_rank 1 MODEL.DEVICE \"CUDA:1\"',\n",
       "        'cmd --id 9 --local_rank 0 MODEL.DEVICE \"CUDA:0\"',\n",
       "        'cmd --id 10 --local_rank 1 MODEL.DEVICE \"CUDA:1\"'], dtype='<U48')]"
      ]
     },
     "execution_count": 51,
     "metadata": {},
     "output_type": "execute_result"
    }
   ],
   "source": [
    "np.array_split(cmds, 3)"
   ]
  }
 ],
 "metadata": {
  "interpreter": {
   "hash": "f91a5d6e4747d83f2ca8abaaaf7aacd52eac54e528eee770e3eb228d51a3694d"
  },
  "kernelspec": {
   "display_name": "Python 3.7.9 64-bit (system)",
   "language": "python",
   "name": "python3"
  },
  "language_info": {
   "codemirror_mode": {
    "name": "ipython",
    "version": 3
   },
   "file_extension": ".py",
   "mimetype": "text/x-python",
   "name": "python",
   "nbconvert_exporter": "python",
   "pygments_lexer": "ipython3",
   "version": "3.6.9"
  },
  "orig_nbformat": 4
 },
 "nbformat": 4,
 "nbformat_minor": 2
}
