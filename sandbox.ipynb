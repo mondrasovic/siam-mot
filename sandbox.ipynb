{
 "cells": [
  {
   "cell_type": "code",
   "execution_count": 2,
   "source": [
    "import torch\r\n",
    "\r\n",
    "from maskrcnn_benchmark.structures.bounding_box import BoxList"
   ],
   "outputs": [],
   "metadata": {}
  },
  {
   "cell_type": "code",
   "execution_count": 26,
   "source": [
    "n = 6\r\n",
    "box = torch.randint(2, 100, (n, 4))\r\n",
    "scores = torch.rand(n)\r\n",
    "ids_valid = torch.arange(0, n // 2)\r\n",
    "ids_invalid = torch.full((n // 2,), -1)\r\n",
    "ids = torch.cat((ids_valid, ids_invalid))\r\n",
    "ids\r\n",
    "\r\n",
    "boxlist = BoxList(box, (800, 600))\r\n",
    "boxlist.add_field('scores', scores)\r\n",
    "boxlist.add_field('ids', ids)\r\n",
    "boxlist"
   ],
   "outputs": [
    {
     "output_type": "execute_result",
     "data": {
      "text/plain": [
       "BoxList(num_boxes=6, image_width=800, image_height=600, mode=xyxy)"
      ]
     },
     "metadata": {},
     "execution_count": 26
    }
   ],
   "metadata": {}
  },
  {
   "cell_type": "code",
   "execution_count": 32,
   "source": [
    "def boxlist_select_tensor_subset(boxlist: BoxList, selector) -> BoxList:\r\n",
    "    box = boxlist.bbox[selector]\r\n",
    "    scores = boxlist.get_field('scores')[selector]\r\n",
    "    ids = boxlist.get_field('ids')[selector]\r\n",
    "\r\n",
    "    boxlist = BoxList(box, boxlist.size, boxlist.mode)\r\n",
    "    boxlist.add_field('scores', scores)\r\n",
    "    boxlist.add_field('ids', ids)\r\n",
    "\r\n",
    "    return boxlist"
   ],
   "outputs": [],
   "metadata": {}
  },
  {
   "cell_type": "code",
   "execution_count": 34,
   "source": [
    "selector = boxlist.get_field('ids') < 0\r\n",
    "boxlist_subset = boxlist_select_tensor_subset(boxlist, selector)\r\n",
    "boxlist_subset"
   ],
   "outputs": [
    {
     "output_type": "execute_result",
     "data": {
      "text/plain": [
       "BoxList(num_boxes=3, image_width=800, image_height=600, mode=xyxy)"
      ]
     },
     "metadata": {},
     "execution_count": 34
    }
   ],
   "metadata": {}
  },
  {
   "cell_type": "code",
   "execution_count": 39,
   "source": [
    "import numpy as np\r\n",
    "\r\n",
    "from scipy.optimize import linear_sum_assignment\r\n",
    "\r\n",
    "cost_matrix = np.random.randint(0, 5, (5, 3))\r\n",
    "cost_matrix"
   ],
   "outputs": [
    {
     "output_type": "execute_result",
     "data": {
      "text/plain": [
       "array([[4, 4, 0],\n",
       "       [3, 0, 1],\n",
       "       [4, 1, 0],\n",
       "       [0, 2, 4],\n",
       "       [1, 2, 0]])"
      ]
     },
     "metadata": {},
     "execution_count": 39
    }
   ],
   "metadata": {}
  },
  {
   "cell_type": "code",
   "execution_count": 41,
   "source": [
    "linear_sum_assignment(cost_matrix)"
   ],
   "outputs": [
    {
     "output_type": "execute_result",
     "data": {
      "text/plain": [
       "(array([0, 1, 3], dtype=int64), array([2, 1, 0], dtype=int64))"
      ]
     },
     "metadata": {},
     "execution_count": 41
    }
   ],
   "metadata": {}
  },
  {
   "cell_type": "code",
   "execution_count": 9,
   "source": [
    "def square_and_cube(x):\r\n",
    "    return x ** 2, x ** 3\r\n",
    "\r\n",
    "def squares_sum_access_index():\r\n",
    "    sum = 0\r\n",
    "    for x in range(10_000):\r\n",
    "        cube = square_and_cube(x)[1]\r\n",
    "        sum += cube\r\n",
    "    return sum\r\n",
    "\r\n",
    "def squares_sum_access_tuple():\r\n",
    "    sum = 0\r\n",
    "    for x in range(10_000):\r\n",
    "        _, cube = square_and_cube(x)\r\n",
    "        sum += cube\r\n",
    "    return sum"
   ],
   "outputs": [],
   "metadata": {}
  },
  {
   "cell_type": "code",
   "execution_count": 10,
   "source": [
    "%timeit squares_sum_access_index"
   ],
   "outputs": [
    {
     "output_type": "stream",
     "name": "stdout",
     "text": [
      "28.1 ns ± 2.71 ns per loop (mean ± std. dev. of 7 runs, 10000000 loops each)\n"
     ]
    }
   ],
   "metadata": {}
  },
  {
   "cell_type": "code",
   "execution_count": 34,
   "source": [
    "import torch"
   ],
   "outputs": [],
   "metadata": {}
  },
  {
   "cell_type": "code",
   "execution_count": 44,
   "source": [
    "m = 4\r\n",
    "n = 5\r\n",
    "a = torch.randint(0, 3, (m, 8)).float()\r\n",
    "b = torch.randint(0, 3, (n, 8)).float()\r\n",
    "\r\n",
    "a, b"
   ],
   "outputs": [
    {
     "output_type": "execute_result",
     "data": {
      "text/plain": [
       "(tensor([[0., 0., 1., 2., 0., 1., 0., 2.],\n",
       "         [2., 2., 0., 0., 0., 2., 0., 1.],\n",
       "         [0., 0., 0., 1., 0., 0., 2., 0.],\n",
       "         [1., 0., 0., 2., 1., 1., 1., 0.]]),\n",
       " tensor([[2., 0., 0., 2., 0., 2., 0., 1.],\n",
       "         [0., 0., 0., 1., 0., 2., 2., 2.],\n",
       "         [2., 0., 0., 1., 0., 0., 2., 2.],\n",
       "         [1., 1., 2., 0., 1., 2., 2., 1.],\n",
       "         [2., 2., 2., 0., 0., 0., 2., 1.]]))"
      ]
     },
     "metadata": {},
     "execution_count": 44
    }
   ],
   "metadata": {}
  },
  {
   "cell_type": "code",
   "execution_count": 52,
   "source": [
    "from torch.nn.functional import cosine_similarity\r\n",
    "\r\n",
    "def cos_sim_matrix(a, b, eps=1e-8):\r\n",
    "    a_n = a.norm(dim=1)[..., None]\r\n",
    "    b_n = b.norm(dim=1)[..., None]\r\n",
    "    a_norm = a / torch.clamp(a_n, min=eps)\r\n",
    "    b_norm = b / torch.clamp(b_n, min=eps)\r\n",
    "    sim_matrix = torch.mm(a_norm, b_norm.transpose(0, 1))\r\n",
    "    return sim_matrix\r\n",
    "\r\n",
    "a / a.norm(dim=1)[..., None]"
   ],
   "outputs": [
    {
     "output_type": "execute_result",
     "data": {
      "text/plain": [
       "tensor([[0.0000, 0.0000, 0.3162, 0.6325, 0.0000, 0.3162, 0.0000, 0.6325],\n",
       "        [0.5547, 0.5547, 0.0000, 0.0000, 0.0000, 0.5547, 0.0000, 0.2774],\n",
       "        [0.0000, 0.0000, 0.0000, 0.4472, 0.0000, 0.0000, 0.8944, 0.0000],\n",
       "        [0.3536, 0.0000, 0.0000, 0.7071, 0.3536, 0.3536, 0.3536, 0.0000]])"
      ]
     },
     "metadata": {},
     "execution_count": 52
    }
   ],
   "metadata": {}
  }
 ],
 "metadata": {
  "orig_nbformat": 4,
  "language_info": {
   "name": "python",
   "version": "3.7.9",
   "mimetype": "text/x-python",
   "codemirror_mode": {
    "name": "ipython",
    "version": 3
   },
   "pygments_lexer": "ipython3",
   "nbconvert_exporter": "python",
   "file_extension": ".py"
  },
  "kernelspec": {
   "name": "python3",
   "display_name": "Python 3.7.9 64-bit ('siam-mot': venv)"
  },
  "interpreter": {
   "hash": "f91a5d6e4747d83f2ca8abaaaf7aacd52eac54e528eee770e3eb228d51a3694d"
  }
 },
 "nbformat": 4,
 "nbformat_minor": 2
}