{
 "cells": [
  {
   "cell_type": "code",
   "execution_count": 5,
   "metadata": {},
   "outputs": [],
   "source": [
    "import torch\n",
    "import numpy as np\n",
    "import cv2 as cv\n",
    "\n",
    "from maskrcnn_benchmark.structures.bounding_box import BoxList\n",
    "from maskrcnn_benchmark.structures.boxlist_ops import boxlist_iou"
   ]
  },
  {
   "cell_type": "code",
   "execution_count": 2,
   "metadata": {},
   "outputs": [
    {
     "ename": "SyntaxError",
     "evalue": "invalid syntax (Temp/ipykernel_7068/1885169875.py, line 1)",
     "output_type": "error",
     "traceback": [
      "\u001b[1;36m  File \u001b[1;32m\"C:\\Users\\night\\AppData\\Local\\Temp/ipykernel_7068/1885169875.py\"\u001b[1;36m, line \u001b[1;32m1\u001b[0m\n\u001b[1;33m    def\u001b[0m\n\u001b[1;37m        ^\u001b[0m\n\u001b[1;31mSyntaxError\u001b[0m\u001b[1;31m:\u001b[0m invalid syntax\n"
     ]
    }
   ],
   "source": [
    "def cos_sim_matrix(\n",
    "    a: torch.Tensor,\n",
    "    b: torch.Tensor,\n",
    "    eps: float = 1e-8\n",
    ") -> torch.Tensor:\n",
    "    \"\"\"Computes a 2D cosine similarity matrix between two sets of vectors.\n",
    "\n",
    "    Args:\n",
    "        a (torch.Tensor): First list of vectors of shape (N, D).\n",
    "        b (torch.Tensor): Second list of vectors of shape (M, D).\n",
    "        eps (float, optional): Small value to avoid division by zero.\n",
    "                               Defaults to 1e-8.\n",
    "\n",
    "    Returns:\n",
    "        torch.Tensor: A 2D cosine similarity matrix of shape (N, M).\n",
    "        The cell at i-th row and j-th column represents the cosine similarity\n",
    "        between the a[i] and b[j] D-dimensional vectors.\n",
    "    \"\"\"\n",
    "    a_norm = a.norm(dim=1)[..., None]\n",
    "    b_norm = b.norm(dim=1)[..., None]\n",
    "\n",
    "    a_ = a / torch.clamp(a_norm, min=eps)\n",
    "    b_ = b / torch.clamp(b_norm, min=eps)\n",
    "\n",
    "    sim_matrix = torch.mm(a_, b_.T)\n",
    "\n",
    "    return sim_matrix\n",
    "\n",
    "def boxlist_feature_nms(\n",
    "    boxes: BoxList,\n",
    "    embs: torch.Tensor,\n",
    "    iou_thresh_1: float = 0.1,\n",
    "    iou_thresh_2: float = 0.9,\n",
    "    cos_sim_thresh: float = 0.4,\n",
    "    score_field: str = 'scores'\n",
    "):\n",
    "    assert len(boxes) == len(embs)\n",
    "    assert embds.ndim == 2\n",
    "    assert 0 < iou_thresh_1 < iou_thresh_2 < 1\n",
    "\n",
    "    scores = boxes.get_field(score_field)\n",
    "    boxes = boxes.convert('xyxy')\n",
    "    iou_scores = boxlist_iou(boxes, boxes)\n",
    "    cos_sim_scores = cos_sim_matrix(embs, embs)\n",
    "\n",
    "    kept_indices = []\n",
    "\n",
    "    for i in torch.argsort(scores).tolist():\n",
    "        for j in kept_indices:\n",
    "            iou = iou_scores[i, j]\n",
    "            if iou > iou_thresh_2:\n",
    "                break\n",
    "            elif iou > iou_thresh_1:\n",
    "                cos_sim = cos_sim_scores[i, j]\n",
    "                if cos_sim > cos_sim_thresh:\n",
    "                    break\n",
    "        else:\n",
    "            kept_indices.append(i)\n",
    "    \n",
    "    return kept_indices"
   ]
  },
  {
   "cell_type": "code",
   "execution_count": 8,
   "metadata": {},
   "outputs": [
    {
     "data": {
      "text/plain": [
       "tensor([0.4370, 0.4058, 0.5587, 0.0499, 0.0207, 0.7344, 0.3449, 0.7767, 0.8454,\n",
       "        0.4787])"
      ]
     },
     "execution_count": 8,
     "metadata": {},
     "output_type": "execute_result"
    }
   ],
   "source": [
    "scores = torch.rand(10)\n",
    "scores"
   ]
  },
  {
   "cell_type": "code",
   "execution_count": 17,
   "metadata": {},
   "outputs": [
    {
     "data": {
      "text/plain": [
       "tensor([0.4058, 0.5587, 0.3449])"
      ]
     },
     "execution_count": 17,
     "metadata": {},
     "output_type": "execute_result"
    }
   ],
   "source": [
    "scores[[1, 2, 6]]"
   ]
  }
 ],
 "metadata": {
  "interpreter": {
   "hash": "f91a5d6e4747d83f2ca8abaaaf7aacd52eac54e528eee770e3eb228d51a3694d"
  },
  "kernelspec": {
   "display_name": "Python 3.7.9 64-bit (system)",
   "name": "python3"
  },
  "language_info": {
   "codemirror_mode": {
    "name": "ipython",
    "version": 3
   },
   "file_extension": ".py",
   "mimetype": "text/x-python",
   "name": "python",
   "nbconvert_exporter": "python",
   "pygments_lexer": "ipython3",
   "version": "3.7.9"
  },
  "orig_nbformat": 4
 },
 "nbformat": 4,
 "nbformat_minor": 2
}
