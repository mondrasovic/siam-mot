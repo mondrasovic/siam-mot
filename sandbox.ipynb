{
 "cells": [
  {
   "cell_type": "code",
   "execution_count": null,
   "metadata": {},
   "outputs": [],
   "source": [
    "import torch\n",
    "import numpy as np\n",
    "import cv2 as cv\n",
    "import pandas as pd\n",
    "import matplotlib.pyplot as plt\n",
    "\n",
    "from matplotlib import rc\n",
    "\n",
    "%matplotlib inline\n",
    "\n",
    "font = {'family': 'Times New Roman', 'weight': 'bold', 'size': 12}\n",
    "rc('font', **font)"
   ]
  },
  {
   "cell_type": "code",
   "execution_count": null,
   "metadata": {},
   "outputs": [],
   "source": [
    "alpha = 0.2\n",
    "beta = 0.8\n",
    "xs = np.linspace(0, 1, 1000)\n",
    "\n",
    "def iou_weight(xs, *, sigma=0.3):\n",
    "    return np.exp(-(xs ** 2) / sigma)\n",
    "\n",
    "def emb_weight(xs, *, center, sigma):\n",
    "    return 1 - np.exp(-((xs - center) ** 2) / sigma)\n",
    "    return 1 - (1 / (1 + np.exp(-(sim * temperature) * (xs - center))))\n",
    "\n",
    "t = 0.01\n",
    "center = (alpha + beta) / 2\n",
    "emb_sigma = -((alpha - center) ** 2) / np.log(t)\n",
    "iou_ys = iou_weight(xs)\n",
    "emb_ys = emb_weight(xs, center=0.5, sigma=emb_sigma)\n",
    "weight_ys = iou_ys * emb_ys\n",
    "\n",
    "fig, ax = plt.subplots(figsize=(16, 6), nrows=1, ncols=1)\n",
    "\n",
    "ax.set_title('Embedding Similarity + Soft-NMS Weighting Function')\n",
    "ax.set_xlabel('IoU Score')\n",
    "ax.set_ylabel('Weight')\n",
    "\n",
    "ax.set_xlim(0, 1)\n",
    "ax.set_ylim(0, 1)\n",
    "\n",
    "ax.vlines(alpha, 0, 1, color='black', alpha=0.5, linestyles='dashed')\n",
    "ax.vlines(beta, 0, 1, color='black', alpha=0.5, linestyles='dashed')\n",
    "ax.plot(xs, iou_ys, label='IoU weight')\n",
    "ax.plot(xs, emb_ys, label='Similarity weight')\n",
    "ax.plot(xs, weight_ys, linewidth=3, label='Final (combined) weight')\n",
    "ax.legend(loc='best')\n",
    "\n",
    "fig.show()"
   ]
  }
 ],
 "metadata": {
  "interpreter": {
   "hash": "f91a5d6e4747d83f2ca8abaaaf7aacd52eac54e528eee770e3eb228d51a3694d"
  },
  "kernelspec": {
   "display_name": "Python 3.7.9 64-bit (system)",
   "language": "python",
   "name": "python3"
  },
  "language_info": {
   "codemirror_mode": {
    "name": "ipython",
    "version": 3
   },
   "file_extension": ".py",
   "mimetype": "text/x-python",
   "name": "python",
   "nbconvert_exporter": "python",
   "pygments_lexer": "ipython3",
   "version": "3.6.9"
  },
  "orig_nbformat": 4
 },
 "nbformat": 4,
 "nbformat_minor": 2
}
