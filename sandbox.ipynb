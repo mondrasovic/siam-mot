{
 "cells": [
  {
   "cell_type": "code",
   "execution_count": null,
   "metadata": {},
   "outputs": [],
   "source": [
    "import torch\n",
    "import numpy as np\n",
    "import cv2 as cv\n",
    "import pandas as pd\n",
    "import matplotlib.pyplot as plt\n"
   ]
  },
  {
   "cell_type": "code",
   "execution_count": null,
   "metadata": {},
   "outputs": [],
   "source": [
    "df = pd.read_csv('E:/eval_results.csv', index_col=0)\n",
    "df.rename(\n",
    "    columns={\n",
    "        'num_frames': 'frames',\n",
    "        'num_matches': 'matches',\n",
    "        'num_switches': 'switches',\n",
    "        'num_false_positives': 'FP',\n",
    "        'num_misses': 'FN',\n",
    "        'num_objects': 'objs',\n",
    "        'num_predictions': 'preds',\n",
    "        'num_fragmentations': 'fragms',\n",
    "        'mostly_tracked': 'MT',\n",
    "        'partially_tracked': 'PT',\n",
    "        'precision': 'prec',\n",
    "        'recall': 'rec',\n",
    "        'idf1': 'IDF1',\n",
    "        'mota': 'MOTA',\n",
    "        'motp': 'MOTP'\n",
    "    }, inplace=True\n",
    ")\n",
    "table_latex = df.to_latex(bold_rows=True, caption='some caption')\n",
    "with open('E:/table_latex.txt', 'wt') as out_file:\n",
    "    out_file.write(table_latex + \"\\n\")\n",
    "print(table_latex)"
   ]
  }
 ],
 "metadata": {
  "interpreter": {
   "hash": "f91a5d6e4747d83f2ca8abaaaf7aacd52eac54e528eee770e3eb228d51a3694d"
  },
  "kernelspec": {
   "display_name": "Python 3.7.9 64-bit (system)",
   "language": "python",
   "name": "python3"
  },
  "language_info": {
   "codemirror_mode": {
    "name": "ipython",
    "version": 3
   },
   "file_extension": ".py",
   "mimetype": "text/x-python",
   "name": "python",
   "nbconvert_exporter": "python",
   "pygments_lexer": "ipython3",
   "version": "3.6.9"
  },
  "orig_nbformat": 4
 },
 "nbformat": 4,
 "nbformat_minor": 2
}
