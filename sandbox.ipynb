{
 "cells": [
  {
   "cell_type": "code",
   "execution_count": 1,
   "metadata": {},
   "outputs": [],
   "source": [
    "import torch\n",
    "import numpy as np\n",
    "import cv2 as cv\n",
    "import torch.nn as nn\n",
    "import torch.nn.functional as F\n",
    "\n",
    "from maskrcnn_benchmark.structures.bounding_box import BoxList\n",
    "from maskrcnn_benchmark.structures.boxlist_ops import boxlist_iou"
   ]
  },
  {
   "cell_type": "code",
   "execution_count": 14,
   "metadata": {},
   "outputs": [
    {
     "data": {
      "text/plain": [
       "tensor([[2., 2., 2.],\n",
       "        [0., 2., 2.],\n",
       "        [0., 1., 0.],\n",
       "        [0., 2., 0.]])"
      ]
     },
     "execution_count": 14,
     "metadata": {},
     "output_type": "execute_result"
    }
   ],
   "source": [
    "B = 4\n",
    "E = 3\n",
    "\n",
    "embs = torch.randint(0, 3, (B, E), dtype=torch.float)\n",
    "embs"
   ]
  },
  {
   "cell_type": "code",
   "execution_count": 48,
   "metadata": {},
   "outputs": [
    {
     "ename": "SyntaxError",
     "evalue": "positional argument follows keyword argument (<ipython-input-48-2f81062dbd5e>, line 88)",
     "output_type": "error",
     "traceback": [
      "\u001b[0;36m  File \u001b[0;32m\"<ipython-input-48-2f81062dbd5e>\"\u001b[0;36m, line \u001b[0;32m88\u001b[0m\n\u001b[0;31m    pairwise_dist, dim=1, kep\u001b[0m\n\u001b[0m                         ^\u001b[0m\n\u001b[0;31mSyntaxError\u001b[0m\u001b[0;31m:\u001b[0m positional argument follows keyword argument\n"
     ]
    }
   ],
   "source": [
    "def _pairwise_l2_dist(\n",
    "    embs: torch.Tensor,\n",
    "    *,\n",
    "    squared: bool = False,\n",
    "    eps: float = 1e-16\n",
    ") -> torch.Tensor:\n",
    "    dot_product = torch.matmul(embs, embs.T)  # [B,B]\n",
    "    square_norm = torch.diag(dot_product)  # [B,]\n",
    "\n",
    "    # Apply the l2 norm formula using the dot product:\n",
    "    # ||A - B||^2 = ||A||^2 - 2<A,B> + ||B||^2\n",
    "    distances = (\n",
    "        torch.unsqueeze(square_norm, dim=1) -  # [B,1]\n",
    "        (2 * dot_product) +  # [B,B]\n",
    "        torch.unsqueeze(square_norm, dim=0)  # [1,B]\n",
    "    )\n",
    "\n",
    "    # Due to potential errors caused by numerical instability, some values may\n",
    "    # have become negative. Thus, we have to make sure the min. value is zero.\n",
    "    zero = torch.tensor(0.0)\n",
    "    distances = torch.maximum(distances, zero)  # [B,B]\n",
    "\n",
    "    if not squared:\n",
    "        # Since the gradient of sqrt(0) is infinite, we, therefore, have to\n",
    "        # add a small epsilon to the zero terms to prevent this.\n",
    "        zeroes_mask = ((distances - zero) < eps).float()  # [B,B]\n",
    "        distances += zeroes_mask * eps\n",
    "        \n",
    "        distances = torch.sqrt(distances)  # [B,B]\n",
    "\n",
    "        # Set all the \"zero\" values back to zero after adding the epsilon value.\n",
    "        distances *= (1.0 - zeroes_mask)\n",
    "    \n",
    "    return distances\n",
    "\n",
    "def _get_anchor_positive_mask(labels: torch.Tensor) -> torch.Tensor:\n",
    "    labels_eq_mask = (labels[..., None] == labels[None, ...])  # [B,B]\n",
    "    idxs_neq_mask = ~torch.eye(len(labels), dtype=torch.bool)  # [B,B]\n",
    "    anchor_positive_mask = (labels_eq_mask & idxs_neq_mask)  # [B,B]\n",
    "    return anchor_positive_mask\n",
    "\n",
    "def _get_anchor_negative_mask(labels: torch.Tensor) -> torch.Tensor:\n",
    "    anchor_negative_mask = (labels[..., None] != labels[None, ...])  # [B,B]\n",
    "    return anchor_negative_mask\n",
    "\n",
    "def get_triplet_mask(labels: torch.Tensor) -> torch.Tensor:\n",
    "    idxs_neq_mask = ~torch.eye(len(labels), dtype=torch.bool)  # [B,B]\n",
    "    idx_i_neq_j_mask = torch.unsqueeze(idxs_neq_mask, dim=2)  # [B,B,1]\n",
    "    idx_i_neq_k_mask = torch.unsqueeze(idxs_neq_mask, dim=1)  # [B,1,B]\n",
    "    idx_j_neq_k_mask = torch.unsqueeze(idxs_neq_mask, dim=0)  # [1,B,B]\n",
    "    triplet_idxs_neq_mask = (\n",
    "        idx_i_neq_j_mask & idx_i_neq_k_mask & idx_j_neq_k_mask  # [B,B,B]\n",
    "    )\n",
    "\n",
    "    labels_eq_mask = (labels[..., None] == labels[None, ...])  # [B,B]\n",
    "    label_i_eq_j = torch.unsqueeze(labels_eq_mask, dim=2)  # [B,B,1]\n",
    "    label_i_neq_k = ~torch.unsqueeze(labels_eq_mask, dim=1)  # [B,1,B]\n",
    "    triplet_labels_valid_mask = (label_i_eq_j & label_i_neq_k)  # [B,B,B]\n",
    "\n",
    "    triplet_mask = (\n",
    "        triplet_idxs_neq_mask & triplet_labels_valid_mask  # [B,B,B]\n",
    "    )\n",
    "\n",
    "    return triplet_mask\n",
    "\n",
    "class SemiHardTripletLoss(nn.Module):\n",
    "    def __init__(self, margin: float = 1.0, squared: bool = True) -> None:\n",
    "        super().__init__()\n",
    "\n",
    "        self.margin: float = margin\n",
    "        self.squared: bool = squared\n",
    "    \n",
    "    def forward(self, embs: torch.Tensor, labels: torch.Tensor) -> torch.Tensor:\n",
    "        pairwise_dist = _pairwise_l2_dist(embs, self.squared)\n",
    "\n",
    "        anchor_positive_mask = _get_anchor_positive_mask(labels)  # [B,B]\n",
    "        anchor_positive_dist = (\n",
    "            pairwise_dist * anchor_positive_mask.float()\n",
    "        )  # [B,B]\n",
    "        hardest_positive_dist = torch.amax(\n",
    "            anchor_positive_dist, dim=1, keepdim=True\n",
    "        )  # [B,1]\n",
    "\n",
    "        anchor_negative_mask = _get_anchor_negative_mask(\n",
    "            labels\n",
    "        ).float()  # [B,B]\n",
    "        max_anchor_negative_dist = torch.amax(\n",
    "            pairwise_dist, dim=1, keepdim=True\n",
    "        )  # [B,1]\n",
    "        anchor_negative_dist = (\n",
    "            pairwise_dist +\n",
    "            (1 - anchor_negative_mask) * max_anchor_negative_dist\n",
    "        )  # [B,B]\n",
    "        hardest_negative_dist = torch.amin(\n",
    "            anchor_negative_dist, dim=1, keepdim=True\n",
    "        )  # [B,1]\n",
    "\n",
    "        triplet_loss = torch.clamp(\n",
    "            hardest_positive_dist - hardest_negative_dist + self.margin, min=0\n",
    "        )  # [B,1]\n",
    "        triplet_loss = torch.mean(triplet_loss)  # [c]\n",
    "\n",
    "        return triplet_loss\n",
    "    "
   ]
  },
  {
   "cell_type": "code",
   "execution_count": 44,
   "metadata": {},
   "outputs": [
    {
     "data": {
      "text/plain": [
       "tensor([[0.7602, 0.6728, 0.1440, 0.5144],\n",
       "        [0.2222, 0.8913, 0.7648, 0.6707],\n",
       "        [0.2119, 0.1066, 0.5787, 0.0769],\n",
       "        [0.0636, 0.4100, 0.1285, 0.3217]])"
      ]
     },
     "execution_count": 44,
     "metadata": {},
     "output_type": "execute_result"
    }
   ],
   "source": [
    "dist = torch.rand((B, B))\n",
    "dist"
   ]
  },
  {
   "cell_type": "code",
   "execution_count": 47,
   "metadata": {},
   "outputs": [
    {
     "data": {
      "text/plain": [
       "tensor([[0.7602],\n",
       "        [0.8913],\n",
       "        [0.5787],\n",
       "        [0.4100]])"
      ]
     },
     "execution_count": 47,
     "metadata": {},
     "output_type": "execute_result"
    }
   ],
   "source": [
    "torch.amax(dist, dim=1, keepdim=True)"
   ]
  },
  {
   "cell_type": "code",
   "execution_count": 8,
   "metadata": {},
   "outputs": [
    {
     "data": {
      "text/plain": [
       "(torch.Size([3, 3, 1]), torch.Size([3, 1, 3]), torch.Size([1, 3, 3]))"
      ]
     },
     "execution_count": 8,
     "metadata": {},
     "output_type": "execute_result"
    }
   ],
   "source": [
    "n = 3\n",
    "indices_neq_mask= ~torch.eye(n, dtype=torch.bool)\n",
    "mask_ij = torch.unsqueeze(indices_neq_mask, dim=2)\n",
    "mask_ik = torch.unsqueeze(indices_neq_mask, dim=1)\n",
    "mask_jk = torch.unsqueeze(indices_neq_mask, dim=0)\n",
    "mask_ij.shape, mask_ik.shape, mask_jk.shape"
   ]
  }
 ],
 "metadata": {
  "interpreter": {
   "hash": "f91a5d6e4747d83f2ca8abaaaf7aacd52eac54e528eee770e3eb228d51a3694d"
  },
  "kernelspec": {
   "display_name": "Python 3.7.9 64-bit (system)",
   "name": "python3"
  },
  "language_info": {
   "codemirror_mode": {
    "name": "ipython",
    "version": 3
   },
   "file_extension": ".py",
   "mimetype": "text/x-python",
   "name": "python",
   "nbconvert_exporter": "python",
   "pygments_lexer": "ipython3",
   "version": "3.6.9"
  },
  "orig_nbformat": 4
 },
 "nbformat": 4,
 "nbformat_minor": 2
}
