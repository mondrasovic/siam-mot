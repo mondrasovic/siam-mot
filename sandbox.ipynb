{
 "cells": [
  {
   "cell_type": "code",
   "execution_count": 106,
   "metadata": {},
   "outputs": [],
   "source": [
    "import random\n",
    "\n",
    "import torch\n",
    "import numpy as np\n",
    "import cv2 as cv\n",
    "import torch.nn as nn\n",
    "import torch.nn.functional as F\n",
    "import matplotlib.pyplot as plt\n",
    "import matplotlib.colors as mcolors\n",
    "\n",
    "from sklearn.manifold import TSNE\n",
    "\n",
    "from maskrcnn_benchmark.structures.bounding_box import BoxList\n",
    "from maskrcnn_benchmark.structures.boxlist_ops import boxlist_iou"
   ]
  },
  {
   "cell_type": "code",
   "execution_count": 68,
   "metadata": {},
   "outputs": [],
   "source": [
    "def _pairwise_l2_dist(\n",
    "    embs: torch.Tensor,\n",
    "    *,\n",
    "    squared: bool = False,\n",
    "    eps: float = 1e-16\n",
    ") -> torch.Tensor:\n",
    "    dot_product = torch.matmul(embs, embs.T)  # [B,B]\n",
    "    square_norm = torch.diag(dot_product)  # [B,]\n",
    "\n",
    "    # Apply the l2 norm formula using the dot product:\n",
    "    # ||A - B||^2 = ||A||^2 - 2<A,B> + ||B||^2\n",
    "    distances = (\n",
    "        torch.unsqueeze(square_norm, dim=1) -  # [B,1]\n",
    "        (2 * dot_product) +  # [B,B]\n",
    "        torch.unsqueeze(square_norm, dim=0)  # [1,B]\n",
    "    )\n",
    "\n",
    "    # Due to potential errors caused by numerical instability, some values may\n",
    "    # have become negative. Thus, we have to make sure the min. value is zero.\n",
    "    zero = torch.tensor(0.0)\n",
    "    distances = torch.maximum(distances, zero)  # [B,B]\n",
    "\n",
    "    if not squared:\n",
    "        # Since the gradient of sqrt(0) is infinite, we, therefore, have to\n",
    "        # add a small epsilon to the zero terms to prevent this.\n",
    "        zeroes_mask = ((distances - zero) < eps).float()  # [B,B]\n",
    "        distances += zeroes_mask * eps\n",
    "        \n",
    "        distances = torch.sqrt(distances)  # [B,B]\n",
    "\n",
    "        # Set all the \"zero\" values back to zero after adding the epsilon value.\n",
    "        distances *= (1.0 - zeroes_mask)\n",
    "    \n",
    "    return distances\n",
    "\n",
    "def _get_anchor_positive_mask(labels: torch.Tensor) -> torch.Tensor:\n",
    "    labels_eq_mask = (labels[..., None] == labels[None, ...])  # [B,B]\n",
    "    idxs_neq_mask = ~torch.eye(len(labels), dtype=torch.bool)  # [B,B]\n",
    "    anchor_positive_mask = (labels_eq_mask & idxs_neq_mask)  # [B,B]\n",
    "    return anchor_positive_mask\n",
    "\n",
    "def _get_anchor_negative_mask(labels: torch.Tensor) -> torch.Tensor:\n",
    "    anchor_negative_mask = (labels[..., None] != labels[None, ...])  # [B,B]\n",
    "    return anchor_negative_mask\n",
    "\n",
    "def get_triplet_mask(labels: torch.Tensor) -> torch.Tensor:\n",
    "    idxs_neq_mask = ~torch.eye(len(labels), dtype=torch.bool)  # [B,B]\n",
    "    idx_i_neq_j_mask = torch.unsqueeze(idxs_neq_mask, dim=2)  # [B,B,1]\n",
    "    idx_i_neq_k_mask = torch.unsqueeze(idxs_neq_mask, dim=1)  # [B,1,B]\n",
    "    idx_j_neq_k_mask = torch.unsqueeze(idxs_neq_mask, dim=0)  # [1,B,B]\n",
    "    triplet_idxs_neq_mask = (\n",
    "        idx_i_neq_j_mask & idx_i_neq_k_mask & idx_j_neq_k_mask  # [B,B,B]\n",
    "    )\n",
    "\n",
    "    labels_eq_mask = (labels[..., None] == labels[None, ...])  # [B,B]\n",
    "    label_i_eq_j = torch.unsqueeze(labels_eq_mask, dim=2)  # [B,B,1]\n",
    "    label_i_neq_k = ~torch.unsqueeze(labels_eq_mask, dim=1)  # [B,1,B]\n",
    "    triplet_labels_valid_mask = (label_i_eq_j & label_i_neq_k)  # [B,B,B]\n",
    "\n",
    "    triplet_mask = (\n",
    "        triplet_idxs_neq_mask & triplet_labels_valid_mask  # [B,B,B]\n",
    "    )\n",
    "\n",
    "    return triplet_mask\n",
    "\n",
    "class SemiHardTripletLoss(nn.Module):\n",
    "    def __init__(self, margin: float = 1.0, squared: bool = True) -> None:\n",
    "        super().__init__()\n",
    "\n",
    "        self.margin: float = margin\n",
    "        self.squared: bool = squared\n",
    "    \n",
    "    def forward(self, embs: torch.Tensor, labels: torch.Tensor) -> torch.Tensor:\n",
    "        pairwise_dist = _pairwise_l2_dist(embs, squared=self.squared)\n",
    "\n",
    "        anchor_positive_mask = _get_anchor_positive_mask(\n",
    "            labels\n",
    "        ).float()  # [B,B]\n",
    "        anchor_positive_dist = pairwise_dist * anchor_positive_mask  # [B,B]\n",
    "        hardest_positive_dist = torch.amax(\n",
    "            anchor_positive_dist, dim=1, keepdim=True\n",
    "        )  # [B,1]\n",
    "\n",
    "        anchor_negative_mask = _get_anchor_negative_mask(\n",
    "            labels\n",
    "        ).float()  # [B,B]\n",
    "        max_anchor_negative_dist = torch.amax(\n",
    "            pairwise_dist, dim=1, keepdim=True\n",
    "        )  # [B,1]\n",
    "        anchor_negative_dist = (\n",
    "            pairwise_dist +\n",
    "            (1 - anchor_negative_mask) * max_anchor_negative_dist\n",
    "        )  # [B,B]\n",
    "        hardest_negative_dist = torch.amin(\n",
    "            anchor_negative_dist, dim=1, keepdim=True\n",
    "        )  # [B,1]\n",
    "\n",
    "        triplet_loss = torch.clamp(\n",
    "            hardest_positive_dist - hardest_negative_dist + self.margin, min=0\n",
    "        )  # [B,1]\n",
    "        triplet_loss = torch.mean(triplet_loss)  # [c]\n",
    "\n",
    "        return triplet_loss"
   ]
  },
  {
   "cell_type": "code",
   "execution_count": 94,
   "metadata": {},
   "outputs": [
    {
     "name": "stdout",
     "output_type": "stream",
     "text": [
      "[1/5000] loss=73.250000\n",
      "[501/5000] loss=38.723083\n",
      "[1001/5000] loss=25.823225\n",
      "[1501/5000] loss=18.568176\n",
      "[2001/5000] loss=13.644020\n",
      "[2501/5000] loss=9.863840\n",
      "[3001/5000] loss=6.575906\n",
      "[3501/5000] loss=3.331624\n",
      "[4001/5000] loss=0.596584\n",
      "[4501/5000] loss=0.000000\n"
     ]
    }
   ],
   "source": [
    "B = 128\n",
    "E = 16\n",
    "n_classes = 5\n",
    "\n",
    "lr = 1e-2\n",
    "n_epochs = 5000\n",
    "print_step = 500\n",
    "embs = torch.randint(0, 5, (B, E), dtype=torch.float, requires_grad=True)\n",
    "labels = torch.randint(0, n_classes, (B,))\n",
    "criterion = SemiHardTripletLoss()\n",
    "\n",
    "optimizer = torch.optim.SGD([embs], lr=lr)\n",
    "for epoch in range(n_epochs):\n",
    "    optimizer.zero_grad()\n",
    "    loss = criterion(embs, labels)\n",
    "    loss.backward()\n",
    "    optimizer.step()\n",
    "    if (epoch % print_step) == 0:\n",
    "        print(f\"[{epoch + 1}/{n_epochs}] loss={loss.item():.6f}\")"
   ]
  },
  {
   "cell_type": "code",
   "execution_count": 111,
   "metadata": {},
   "outputs": [
    {
     "name": "stderr",
     "output_type": "stream",
     "text": [
      "/home/mond/s/ssd/venvs/ml/lib/python3.6/site-packages/sklearn/manifold/_t_sne.py:699: FutureWarning: 'square_distances' has been introduced in 0.24 to help phase out legacy squaring behavior. The 'legacy' setting will be removed in 1.1 (renaming of 0.26), and the default setting will be changed to True. In 1.3, 'square_distances' will be removed altogether, and distances will be squared by default. Set 'square_distances'=True to silence this warning.\n",
      "  FutureWarning\n"
     ]
    },
    {
     "data": {
      "text/plain": [
       "<matplotlib.collections.PathCollection at 0x7eff3670ccc0>"
      ]
     },
     "execution_count": 111,
     "metadata": {},
     "output_type": "execute_result"
    },
    {
     "data": {
      "image/png": "[encoded data removed]",
      "text/plain": [
       "<Figure size 720x576 with 1 Axes>"
      ]
     },
     "metadata": {
      "needs_background": "light"
     },
     "output_type": "display_data"
    }
   ],
   "source": [
    "def init_colors(n_colors, *, randomize=True):\n",
    "    colors =  list(mcolors.BASE_COLORS.keys())\n",
    "    if randomize:\n",
    "        random.shuffle(colors)\n",
    "    return colors[:n_colors]\n",
    "\n",
    "tsne = TSNE(n_components=2, n_iter=3000, metric='cosine')\n",
    "embs_reduced = tsne.fit_transform(embs.detach().numpy())\n",
    "\n",
    "class_colors = init_colors(n_classes, randomize=False)\n",
    "color_seq = [class_colors[label] for label in labels.tolist()]\n",
    "\n",
    "fig, ax = plt.subplots(figsize=(10, 8))\n",
    "xs = embs_reduced[:, 0]\n",
    "ys = embs_reduced[:, 1]\n",
    "ax.scatter(xs, ys, alpha=0.8, c=color_seq)"
   ]
  }
 ],
 "metadata": {
  "interpreter": {
   "hash": "f91a5d6e4747d83f2ca8abaaaf7aacd52eac54e528eee770e3eb228d51a3694d"
  },
  "kernelspec": {
   "display_name": "Python 3.7.9 64-bit (system)",
   "name": "python3"
  },
  "language_info": {
   "codemirror_mode": {
    "name": "ipython",
    "version": 3
   },
   "file_extension": ".py",
   "mimetype": "text/x-python",
   "name": "python",
   "nbconvert_exporter": "python",
   "pygments_lexer": "ipython3",
   "version": "3.6.9"
  },
  "orig_nbformat": 4
 },
 "nbformat": 4,
 "nbformat_minor": 2
}
