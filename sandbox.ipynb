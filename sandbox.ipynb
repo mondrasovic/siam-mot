{
 "cells": [
  {
   "cell_type": "code",
   "execution_count": 1,
   "source": [
    "import torch"
   ],
   "outputs": [],
   "metadata": {}
  },
  {
   "cell_type": "code",
   "execution_count": 3,
   "source": [
    "m = 4\r\n",
    "n = 5\r\n",
    "a = torch.randint(0, 3, (m, 8)).float()\r\n",
    "b = torch.randint(0, 3, (n, 8)).float()\r\n",
    "\r\n",
    "a, b"
   ],
   "outputs": [
    {
     "output_type": "execute_result",
     "data": {
      "text/plain": [
       "(tensor([[1., 2., 2., 0., 2., 0., 0., 0.],\n",
       "         [1., 2., 0., 2., 2., 1., 0., 0.],\n",
       "         [2., 2., 1., 2., 1., 1., 0., 1.],\n",
       "         [2., 0., 0., 2., 0., 2., 1., 1.]]),\n",
       " tensor([[1., 2., 1., 2., 2., 0., 1., 2.],\n",
       "         [2., 1., 0., 2., 1., 2., 0., 0.],\n",
       "         [2., 1., 2., 1., 2., 2., 1., 2.],\n",
       "         [1., 0., 1., 2., 1., 0., 0., 2.],\n",
       "         [0., 2., 2., 2., 0., 1., 0., 1.]]))"
      ]
     },
     "metadata": {},
     "execution_count": 3
    }
   ],
   "metadata": {}
  },
  {
   "cell_type": "code",
   "execution_count": 19,
   "source": [
    "def cos_sim_matrix(\r\n",
    "    a: torch.Tensor,\r\n",
    "    b: torch.Tensor,\r\n",
    "    eps: float = 1e-8\r\n",
    ") -> torch.Tensor:\r\n",
    "    a_norm = a.norm(dim=1)[..., None]\r\n",
    "    b_norm = b.norm(dim=1)[..., None]\r\n",
    "\r\n",
    "    a_ = a / torch.clamp(a_norm, min=eps)\r\n",
    "    b_ = b / torch.clamp(b_norm, min=eps)\r\n",
    "\r\n",
    "    sim_matrix = torch.mm(a_, b_.T)\r\n",
    "\r\n",
    "    return sim_matrix\r\n",
    "\r\n",
    "cos_sim_matrix(a, b)"
   ],
   "outputs": [
    {
     "output_type": "execute_result",
     "data": {
      "text/plain": [
       "tensor([[0.6999, 0.4447, 0.6940, 0.4181, 0.5930],\n",
       "        [0.7971, 0.8571, 0.6687, 0.5641, 0.6429],\n",
       "        [0.8603, 0.8686, 0.8341, 0.7538, 0.8018],\n",
       "        [0.5518, 0.8571, 0.7245, 0.6447, 0.5000]])"
      ]
     },
     "metadata": {},
     "execution_count": 19
    }
   ],
   "metadata": {}
  },
  {
   "cell_type": "code",
   "execution_count": 24,
   "source": [
    "import numpy as np\r\n",
    "\r\n",
    "from scipy.optimize import linear_sum_assignment\r\n",
    "\r\n",
    "cost_matrix = np.random.random((0, 0))\r\n",
    "\r\n",
    "linear_sum_assignment(cost_matrix)\r\n",
    "\r\n",
    "t = torch.empty((0, 0)) \r\n",
    "t"
   ],
   "outputs": [
    {
     "output_type": "execute_result",
     "data": {
      "text/plain": [
       "tensor([], size=(0, 0))"
      ]
     },
     "metadata": {},
     "execution_count": 24
    }
   ],
   "metadata": {}
  },
  {
   "cell_type": "code",
   "execution_count": 25,
   "source": [
    "from torch.nn.functional import cosine_similarity\r\n",
    "\r\n",
    "sim_rows = []\r\n",
    "for a_ in a:\r\n",
    "    sim_row = \", \".join(f\"{cosine_similarity(a_, b_, 0).item():.4f}\" for b_ in b)\r\n",
    "    sim_rows.append(sim_row)\r\n",
    "print(\"\\n\".join(sim_rows))"
   ],
   "outputs": [
    {
     "output_type": "stream",
     "name": "stdout",
     "text": [
      "0.6999, 0.4447, 0.6940, 0.4181, 0.5930\n",
      "0.7971, 0.8571, 0.6687, 0.5641, 0.6429\n",
      "0.8603, 0.8686, 0.8341, 0.7538, 0.8018\n",
      "0.5518, 0.8571, 0.7245, 0.6447, 0.5000\n"
     ]
    }
   ],
   "metadata": {}
  },
  {
   "cell_type": "code",
   "execution_count": 28,
   "source": [
    "emb = [torch.rand((1, 2048)) for _ in range(10)]\r\n",
    "emb = torch.cat(emb, dim=0)\r\n",
    "emb.shape"
   ],
   "outputs": [
    {
     "output_type": "execute_result",
     "data": {
      "text/plain": [
       "torch.Size([10, 2048])"
      ]
     },
     "metadata": {},
     "execution_count": 28
    }
   ],
   "metadata": {}
  },
  {
   "cell_type": "code",
   "execution_count": 33,
   "source": [
    "t = torch.rand((10,))\r\n",
    "a, = torch.where(t > .5)\r\n",
    "a"
   ],
   "outputs": [
    {
     "output_type": "execute_result",
     "data": {
      "text/plain": [
       "tensor([0, 3, 4, 6, 8, 9])"
      ]
     },
     "metadata": {},
     "execution_count": 33
    }
   ],
   "metadata": {}
  }
 ],
 "metadata": {
  "orig_nbformat": 4,
  "language_info": {
   "name": "python",
   "version": "3.7.9",
   "mimetype": "text/x-python",
   "codemirror_mode": {
    "name": "ipython",
    "version": 3
   },
   "pygments_lexer": "ipython3",
   "nbconvert_exporter": "python",
   "file_extension": ".py"
  },
  "kernelspec": {
   "name": "python3",
   "display_name": "Python 3.7.9 64-bit ('siam-mot': venv)"
  },
  "interpreter": {
   "hash": "f91a5d6e4747d83f2ca8abaaaf7aacd52eac54e528eee770e3eb228d51a3694d"
  }
 },
 "nbformat": 4,
 "nbformat_minor": 2
}