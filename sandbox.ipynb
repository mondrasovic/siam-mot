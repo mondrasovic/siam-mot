{
 "cells": [
  {
   "cell_type": "code",
   "execution_count": 1,
   "metadata": {},
   "outputs": [
    {
     "data": {
      "text/plain": [
       "(73, 86, 105)"
      ]
     },
     "execution_count": 1,
     "metadata": {},
     "output_type": "execute_result"
    }
   ],
   "source": [
    "import cv2 as cv\n",
    "import numpy as np\n",
    "\n",
    "def img_show(img, win_name=\"Preview\"):\n",
    "    cv.imshow(win_name, img)\n",
    "    cv.waitKey(0)\n",
    "    cv.destroyWindow(win_name)\n",
    "\n",
    "def calc_occlusion_color(img):\n",
    "    return tuple(np.mean(img, axis=(0, 1)).round().astype(np.int))\n",
    "\n",
    "img = cv.imread('tmp.jpg', cv.IMREAD_COLOR)\n",
    "tuple(np.mean(img, axis=(0, 1)).round().astype(np.int))"
   ]
  },
  {
   "cell_type": "code",
   "execution_count": 2,
   "metadata": {},
   "outputs": [],
   "source": [
    "import json\n",
    "\n",
    "with open('E:/processed.json', 'rt') as in_file:\n",
    "    content = json.load(in_file)"
   ]
  },
  {
   "cell_type": "code",
   "execution_count": 12,
   "metadata": {},
   "outputs": [
    {
     "data": {
      "text/plain": [
       "dict_keys(['entities', 'id', 'metadata'])"
      ]
     },
     "execution_count": 12,
     "metadata": {},
     "output_type": "execute_result"
    }
   ],
   "source": [
    "import itertools\n",
    "\n",
    "content.keys()"
   ]
  },
  {
   "cell_type": "code",
   "execution_count": 19,
   "metadata": {},
   "outputs": [
    {
     "name": "stdout",
     "output_type": "stream",
     "text": [
      "0: 1,2,3,4,5\n",
      "1: 6,7,8,9,10\n",
      "2: 11,12,13,14,15\n",
      "3: 16,17,18,19\n"
     ]
    }
   ],
   "source": [
    "vals = list(range(0, 20))\n",
    "n = 5\n",
    "s = 1\n",
    "\n",
    "def _key(val):\n",
    "    return (val - s) // n\n",
    "\n",
    "vals_iter = filter(lambda v: v >= s, vals)\n",
    "\n",
    "for k, g in itertools.groupby(vals_iter, key=_key):\n",
    "    print(f\"{k}: {','.join(map(str, g))}\")"
   ]
  }
 ],
 "metadata": {
  "interpreter": {
   "hash": "f91a5d6e4747d83f2ca8abaaaf7aacd52eac54e528eee770e3eb228d51a3694d"
  },
  "kernelspec": {
   "display_name": "Python 3.7.9 64-bit (system)",
   "name": "python3"
  },
  "language_info": {
   "codemirror_mode": {
    "name": "ipython",
    "version": 3
   },
   "file_extension": ".py",
   "mimetype": "text/x-python",
   "name": "python",
   "nbconvert_exporter": "python",
   "pygments_lexer": "ipython3",
   "version": "3.7.9"
  },
  "orig_nbformat": 4
 },
 "nbformat": 4,
 "nbformat_minor": 2
}
