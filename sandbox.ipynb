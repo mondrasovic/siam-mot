{
 "cells": [
  {
   "cell_type": "code",
   "execution_count": null,
   "metadata": {},
   "outputs": [],
   "source": [
    "import cv2 as cv\n",
    "import numpy as np\n",
    "\n",
    "def img_show(img, win_name=\"Preview\"):\n",
    "    cv.imshow(win_name, img)\n",
    "    cv.waitKey(0)\n",
    "    cv.destroyWindow(win_name)\n",
    "\n",
    "def calc_occlusion_color(img):\n",
    "    return tuple(np.mean(img, axis=(0, 1)).round().astype(np.int))\n",
    "\n",
    "img = cv.imread('tmp.jpg', cv.IMREAD_COLOR)\n",
    "tuple(np.mean(img, axis=(0, 1)).round().astype(np.int))"
   ]
  },
  {
   "cell_type": "code",
   "execution_count": null,
   "metadata": {},
   "outputs": [],
   "source": [
    "from shapely import geometry\n",
    "import cv2 as cv\n",
    "import numpy as np\n",
    "\n",
    "def mouse_click_event(event, x, y, flags, params):\n",
    "    if event != cv.EVENT_LBUTTONDOWN:\n",
    "        return\n",
    "    \n",
    "    selected_points = params\n",
    "    selected_points.append((x, y))\n",
    "\n",
    "def print_selected_points(selected_points):\n",
    "    print('\\n'.join(map(lambda p: str(p) + ',', selected_points)))\n",
    "\n",
    "image_file_path = './tmp.jpg'\n",
    "\n",
    "window_name = \"Image preview (q - quit, c - clear, p - print)\"\n",
    "clear_points_key = 'c'\n",
    "quit_app_key = 'q'\n",
    "print_points_key = 'p'\n",
    "\n",
    "selected_points = []\n",
    "\n",
    "cv.namedWindow(window_name)\n",
    "cv.setMouseCallback(window_name, mouse_click_event, selected_points)\n",
    "\n",
    "image_orig = cv.imread(image_file_path)\n",
    "point_size = int(round(min(image_orig.shape[:2]) * 0.01))\n",
    "\n",
    "while True:\n",
    "    curr_image = image_orig.copy()\n",
    "\n",
    "    if len(selected_points) > 2:\n",
    "        points_hull = np.squeeze(cv.convexHull(np.asarray(selected_points)))\n",
    "        print(points_hull.shape)\n",
    "        cv.drawContours(\n",
    "            curr_image, [points_hull], 0, color=(127, 127, 127),\n",
    "            thickness=-1, lineType=cv.LINE_AA\n",
    "        )\n",
    "\n",
    "    for point in selected_points:\n",
    "        cv.circle(curr_image, point, point_size * 2, (0, 0, 0), thickness=-1, lineType=cv.LINE_AA)\n",
    "        cv.circle(curr_image, point, point_size, (255, 255, 255), thickness=-1, lineType=cv.LINE_AA)\n",
    "    \n",
    "    cv.imshow(window_name, curr_image)\n",
    "    \n",
    "    key = cv.waitKey(10) & 0xff\n",
    "    if key == ord(quit_app_key):\n",
    "        print('exiting...')\n",
    "        break\n",
    "    elif key == ord(clear_points_key):\n",
    "        selected_points.clear()\n",
    "        print('points cleared...')\n",
    "    elif key == ord(print_points_key):\n",
    "        print('selected points:')\n",
    "        print_selected_points(selected_points)\n",
    "\n",
    "if cv.getWindowProperty(window_name, cv.WND_PROP_VISIBLE) >= 1:\n",
    "    cv.destroyWindow(window_name)\n",
    "\n",
    "# polygon = geometry.Polygon(())"
   ]
  },
  {
   "cell_type": "code",
   "execution_count": 3,
   "metadata": {},
   "outputs": [
    {
     "data": {
      "text/plain": [
       "True"
      ]
     },
     "execution_count": 3,
     "metadata": {},
     "output_type": "execute_result"
    }
   ],
   "source": []
  }
 ],
 "metadata": {
  "interpreter": {
   "hash": "f91a5d6e4747d83f2ca8abaaaf7aacd52eac54e528eee770e3eb228d51a3694d"
  },
  "kernelspec": {
   "display_name": "Python 3.7.9 64-bit ('siam-mot': venv)",
   "name": "python3"
  },
  "language_info": {
   "codemirror_mode": {
    "name": "ipython",
    "version": 3
   },
   "file_extension": ".py",
   "mimetype": "text/x-python",
   "name": "python",
   "nbconvert_exporter": "python",
   "pygments_lexer": "ipython3",
   "version": "3.7.9"
  },
  "orig_nbformat": 4
 },
 "nbformat": 4,
 "nbformat_minor": 2
}
