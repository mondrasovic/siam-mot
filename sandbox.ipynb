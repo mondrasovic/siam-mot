{
 "cells": [
  {
   "cell_type": "code",
   "execution_count": 7,
   "metadata": {},
   "outputs": [
    {
     "data": {
      "text/plain": [
       "(73, 86, 105)"
      ]
     },
     "execution_count": 7,
     "metadata": {},
     "output_type": "execute_result"
    }
   ],
   "source": [
    "import cv2 as cv\n",
    "import numpy as np\n",
    "\n",
    "def img_show(img, win_name=\"Preview\"):\n",
    "    cv.imshow(win_name, img)\n",
    "    cv.waitKey(0)\n",
    "    cv.destroyWindow(win_name)\n",
    "\n",
    "def calc_occlusion_color(img):\n",
    "    return tuple(np.mean(img, axis=(0, 1)).round().astype(np.int))\n",
    "\n",
    "img = cv.imread('tmp.jpg', cv.IMREAD_COLOR)\n",
    "tuple(np.mean(img, axis=(0, 1)).round().astype(np.int))"
   ]
  }
 ],
 "metadata": {
  "interpreter": {
   "hash": "f91a5d6e4747d83f2ca8abaaaf7aacd52eac54e528eee770e3eb228d51a3694d"
  },
  "kernelspec": {
   "display_name": "Python 3.7.9 64-bit (system)",
   "name": "python3"
  },
  "language_info": {
   "codemirror_mode": {
    "name": "ipython",
    "version": 3
   },
   "file_extension": ".py",
   "mimetype": "text/x-python",
   "name": "python",
   "nbconvert_exporter": "python",
   "pygments_lexer": "ipython3",
   "version": "3.7.9"
  },
  "orig_nbformat": 4
 },
 "nbformat": 4,
 "nbformat_minor": 2
}
