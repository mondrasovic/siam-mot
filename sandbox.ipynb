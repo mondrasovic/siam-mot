{
 "cells": [
  {
   "cell_type": "code",
   "execution_count": 1,
   "metadata": {},
   "outputs": [],
   "source": [
    "import torch\n",
    "import numpy as np\n",
    "import cv2 as cv\n",
    "import torch.nn as nn\n",
    "import torch.nn.functional as F\n",
    "\n",
    "from maskrcnn_benchmark.structures.bounding_box import BoxList\n",
    "from maskrcnn_benchmark.structures.boxlist_ops import boxlist_iou"
   ]
  },
  {
   "cell_type": "code",
   "execution_count": 33,
   "metadata": {},
   "outputs": [],
   "source": [
    "B = 5\n",
    "E = 4\n",
    "embs = torch.randint(0, 3, (B, E)).float()  # [B,E]\n",
    "labels = torch.randint(0, 5, (B,)).float()  # [B,]"
   ]
  },
  {
   "cell_type": "code",
   "execution_count": 34,
   "metadata": {},
   "outputs": [
    {
     "data": {
      "text/plain": [
       "(tensor([[0., 2., 1., 2.],\n",
       "         [0., 1., 1., 1.],\n",
       "         [2., 0., 1., 1.],\n",
       "         [1., 2., 0., 2.],\n",
       "         [2., 1., 1., 1.]]),\n",
       " torch.Size([5, 4]))"
      ]
     },
     "execution_count": 34,
     "metadata": {},
     "output_type": "execute_result"
    }
   ],
   "source": [
    "embs, embs.shape"
   ]
  },
  {
   "cell_type": "code",
   "execution_count": 35,
   "metadata": {},
   "outputs": [
    {
     "data": {
      "text/plain": [
       "(tensor([4., 4., 1., 1., 0.]), torch.Size([5]))"
      ]
     },
     "execution_count": 35,
     "metadata": {},
     "output_type": "execute_result"
    }
   ],
   "source": [
    "labels, labels.shape"
   ]
  },
  {
   "cell_type": "code",
   "execution_count": 37,
   "metadata": {},
   "outputs": [
    {
     "data": {
      "text/plain": [
       "tensor([[ True,  True, False, False, False],\n",
       "        [ True,  True, False, False, False],\n",
       "        [False, False,  True,  True, False],\n",
       "        [False, False,  True,  True, False],\n",
       "        [False, False, False, False,  True]])"
      ]
     },
     "execution_count": 37,
     "metadata": {},
     "output_type": "execute_result"
    }
   ],
   "source": [
    "labels_2d = torch.atleast_2d(labels)\n",
    "mask = labels_2d == labels_2d.T\n",
    "mask"
   ]
  },
  {
   "cell_type": "code",
   "execution_count": null,
   "metadata": {},
   "outputs": [],
   "source": [
    "def _pairwise_distances(\n",
    "    embs: torch.Tensor,\n",
    "    *,\n",
    "    squared: bool = False,\n",
    "    eps: float = 1e-16\n",
    ") -> torch.Tensor:\n",
    "    pass"
   ]
  },
  {
   "cell_type": "code",
   "execution_count": 45,
   "metadata": {},
   "outputs": [],
   "source": [
    "def _get_anchor_positive_triplet_mask(labels: torch.Tensor) -> torch.Tensor:\n",
    "    labels_eq_mask = (labels[..., None] == labels[None, ...])  # [B,B]\n",
    "    idxs_neq_mask = ~torch.eye(len(labels), dtype=torch.bool)  # [B,B]\n",
    "    anchor_positive_mask = (labels_eq_mask & idxs_neq_mask)  # [B,B]\n",
    "    return anchor_positive_mask\n",
    "\n",
    "def _get_anchor_negative_triplet_mask(labels: torch.Tensor) -> torch.Tensor:\n",
    "    anchor_negative_mask = (labels[..., None] != labels[None, ...])  # [B,B]\n",
    "    return anchor_negative_mask\n",
    "\n",
    "def get_triplet_mask(labels: torch.Tensor) -> torch.Tensor:\n",
    "    idxs_neq_mask = ~torch.eye(len(labels), dtype=torch.bool)  # [B,B]\n",
    "    idx_i_neq_j_mask = torch.unsqueeze(idxs_neq_mask, dim=2)  # [B,B,1]\n",
    "    idx_i_neq_k_mask = torch.unsqueeze(idxs_neq_mask, dim=1)  # [B,1,B]\n",
    "    idx_j_neq_k_mask = torch.unsqueeze(idxs_neq_mask, dim=0)  # [1,B,B]\n",
    "    triplet_idxs_neq_mask = (\n",
    "        idx_i_neq_j_mask & idx_i_neq_k_mask & idx_j_neq_k_mask  # [B,B,B]\n",
    "    )\n",
    "\n",
    "    labels_eq_mask = (labels[..., None] == labels[None, ...])  # [B,B]\n",
    "    label_i_eq_j = torch.unsqueeze(labels_eq_mask, dim=2)  # [B,B,1]\n",
    "    label_i_neq_k = ~torch.unsqueeze(labels_eq_mask, dim=1)  # [B,1,B]\n",
    "    triplet_labels_valid_mask = (label_i_eq_j & label_i_neq_k)  # [B,B,B]\n",
    "\n",
    "    triplet_mask = (\n",
    "        triplet_idxs_neq_mask & triplet_labels_valid_mask  # [B,B,B]\n",
    "    )\n",
    "\n",
    "    return triplet_mask\n"
   ]
  },
  {
   "cell_type": "code",
   "execution_count": 42,
   "metadata": {},
   "outputs": [
    {
     "data": {
      "text/plain": [
       "(torch.Size([3, 3, 1]), torch.Size([3, 1, 3]), torch.Size([1, 3, 3]))"
      ]
     },
     "execution_count": 42,
     "metadata": {},
     "output_type": "execute_result"
    }
   ],
   "source": [
    "n = 3\n",
    "indices_neq_mask= ~torch.eye(n, dtype=torch.bool)\n",
    "mask_ij = torch.unsqueeze(indices_neq_mask, dim=2)\n",
    "mask_ik = torch.unsqueeze(indices_neq_mask, dim=1)\n",
    "mask_jk = torch.unsqueeze(indices_neq_mask, dim=0)\n",
    "mask_ij.shape, mask_ik.shape, mask_jk.shape"
   ]
  }
 ],
 "metadata": {
  "interpreter": {
   "hash": "f91a5d6e4747d83f2ca8abaaaf7aacd52eac54e528eee770e3eb228d51a3694d"
  },
  "kernelspec": {
   "display_name": "Python 3.7.9 64-bit (system)",
   "name": "python3"
  },
  "language_info": {
   "codemirror_mode": {
    "name": "ipython",
    "version": 3
   },
   "file_extension": ".py",
   "mimetype": "text/x-python",
   "name": "python",
   "nbconvert_exporter": "python",
   "pygments_lexer": "ipython3",
   "version": "3.6.9"
  },
  "orig_nbformat": 4
 },
 "nbformat": 4,
 "nbformat_minor": 2
}
