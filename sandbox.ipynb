{
 "cells": [
  {
   "cell_type": "code",
   "execution_count": 56,
   "source": [
    "import json\r\n",
    "import itertools\r\n",
    "import pathlib\r\n",
    "\r\n",
    "import cv2 as cv\r\n",
    "import numpy as np"
   ],
   "outputs": [],
   "metadata": {}
  },
  {
   "cell_type": "code",
   "execution_count": null,
   "source": [
    "inference_dump_file_path = \"E:/formatted.json\"\r\n",
    "imgs_dir_path = pathlib.Path(\r\n",
    "    \"E:/datasets/MOT17/raw_data/train/MOT17-02-DPM/img1\"\r\n",
    ")\r\n",
    "\r\n",
    "with open(inference_dump_file_path) as inference_file:\r\n",
    "    content = json.load(inference_file)\r\n",
    "    entities = content['entities']"
   ],
   "outputs": [],
   "metadata": {}
  },
  {
   "cell_type": "code",
   "execution_count": 63,
   "source": [
    "def iter_imgs_and_entities(imgs_dir_path, entities):\r\n",
    "    def _key_func(entity):\r\n",
    "        return entity['blob']['frame_idx']\r\n",
    "    \r\n",
    "    def _build_converted_entities_iter(entities_orig_iter):\r\n",
    "        for entity_orig in entities_orig_iter:\r\n",
    "            entity_new = {\r\n",
    "                'box': tuple(map(lambda c: int(round(c)), entity_orig['bb'])),\r\n",
    "                'id': entity_orig['id'],\r\n",
    "                'confidence': entity_orig['confidence']\r\n",
    "            }\r\n",
    "            yield entity_new\r\n",
    "    \r\n",
    "    imgs_dir = pathlib.Path(imgs_dir_path)\r\n",
    "    files_iter = imgs_dir.iterdir()\r\n",
    "    groups_iter = itertools.groupby(entities, key=_key_func)\r\n",
    "\r\n",
    "    for file, (_, entities_orig_iter) in zip(files_iter, groups_iter):\r\n",
    "        img = cv.imread(str(file), cv.IMREAD_COLOR)\r\n",
    "        entities_iter = _build_converted_entities_iter(entities_orig_iter)\r\n",
    "        yield img, entities_iter\r\n",
    "\r\n",
    "def labeled_rectangle(\r\n",
    "    img, start_pt, end_pt, label, rect_color, label_color, alpha= 0.85):\r\n",
    "    (x1, y1), (x2, y2) = start_pt, end_pt\r\n",
    "\r\n",
    "    roi = img[y1:y2, x1:x2]\r\n",
    "    rect = np.ones_like(roi) * 255\r\n",
    "    img[y1:y2, x1:x2] = cv.addWeighted(roi, alpha, rect, 1 - alpha, 0)\r\n",
    "\r\n",
    "    font_face = cv.FONT_HERSHEY_COMPLEX_SMALL\r\n",
    "    font_scale = 1\r\n",
    "    font_thickness = 3\r\n",
    "\r\n",
    "    (text_width, text_height), baseline = cv.getTextSize(\r\n",
    "        label, font_face, font_scale, font_thickness)\r\n",
    "    text_rect_end = (\r\n",
    "        start_pt[0] + text_width, start_pt[1] + text_height + baseline\r\n",
    "    )\r\n",
    "    cv.rectangle(img, start_pt, text_rect_end, rect_color, -1)\r\n",
    "    \r\n",
    "    # TODO Somehow calculate the shift.\r\n",
    "    text_start_pt = (start_pt[0] + 1, start_pt[1] + text_height + 3)\r\n",
    "    cv.putText(\r\n",
    "        img, label, text_start_pt, font_face, font_scale, label_color,\r\n",
    "        font_thickness, cv.LINE_AA\r\n",
    "    )\r\n",
    "    cv.putText(\r\n",
    "        img, label, text_start_pt, font_face, font_scale, (255, 255, 255),\r\n",
    "        max(1, font_thickness - 2), cv.LINE_AA\r\n",
    "    )\r\n",
    "    cv.rectangle(img, start_pt, end_pt, rect_color, 2, cv.LINE_AA)\r\n",
    "\r\n",
    "def render_entity(img, entity):\r\n",
    "    box = entity['box']\r\n",
    "    start_pt = box[:2]\r\n",
    "    end_pt = (start_pt[0] + box[2], start_pt[1] + box[3])\r\n",
    "    label = str(entity['id'])\r\n",
    "    labeled_rectangle(img, start_pt, end_pt, label, (0, 255, 0), (0, 0, 255))\r\n",
    "\r\n",
    "win_name = \"Tracking inference preview\"\r\n",
    "\r\n",
    "for img, entities_iter in iter_imgs_and_entities(imgs_dir_path, entities):\r\n",
    "    for entity in entities_iter:\r\n",
    "        render_entity(img, entity)\r\n",
    "    cv.imshow(win_name, img)\r\n",
    "    key = cv.waitKey(0) & 0xff\r\n",
    "    if key == ord('q'):\r\n",
    "        break\r\n",
    "\r\n",
    "cv.destroyWindow(win_name)"
   ],
   "outputs": [],
   "metadata": {}
  }
 ],
 "metadata": {
  "orig_nbformat": 4,
  "language_info": {
   "name": "python",
   "version": "3.7.9",
   "mimetype": "text/x-python",
   "codemirror_mode": {
    "name": "ipython",
    "version": 3
   },
   "pygments_lexer": "ipython3",
   "nbconvert_exporter": "python",
   "file_extension": ".py"
  },
  "kernelspec": {
   "name": "python3",
   "display_name": "Python 3.7.9 64-bit ('siam-mot': venv)"
  },
  "interpreter": {
   "hash": "f91a5d6e4747d83f2ca8abaaaf7aacd52eac54e528eee770e3eb228d51a3694d"
  }
 },
 "nbformat": 4,
 "nbformat_minor": 2
}