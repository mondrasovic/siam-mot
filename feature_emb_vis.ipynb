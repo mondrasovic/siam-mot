{
 "cells": [
  {
   "cell_type": "code",
   "execution_count": null,
   "metadata": {},
   "outputs": [],
   "source": [
    "import json\n",
    "import pathlib\n",
    "import functools\n",
    "\n",
    "import torch\n",
    "import torch.nn as nn\n",
    "import torch.nn.functional as F\n",
    "import numpy as np\n",
    "import cv2 as cv\n",
    "import matplotlib.pyplot as plt\n",
    "import matplotlib.colors as mcolors\n",
    "\n",
    "from sklearn.manifold import TSNE\n",
    "from torchsummary import summary\n",
    "from matplotlib.offsetbox import OffsetImage, AnnotationBbox\n",
    "from matplotlib import rc\n",
    "from PIL import Image\n",
    "\n",
    "%load_ext autoreload\n",
    "%autoreload 2\n",
    "%matplotlib inline\n",
    "\n",
    "font = {'family': 'Times New Roman', 'weight': 'bold', 'size': 12}\n",
    "rc('font', **font)"
   ]
  },
  {
   "cell_type": "code",
   "execution_count": null,
   "metadata": {},
   "outputs": [],
   "source": [
    "seq_num = 39361\n",
    "\n",
    "debug_file_path = f'./eval_tmp/DLA-34-FPN_box_EMM_UA_DETRAC/track_solver_debug_MVI_{seq_num:05d}.json'\n",
    "\n",
    "with open(debug_file_path, 'rt') as in_file:\n",
    "    debug_data = json.load(in_file)"
   ]
  },
  {
   "cell_type": "code",
   "execution_count": null,
   "metadata": {},
   "outputs": [],
   "source": [
    "data_seq_dir_path = f'../../datasets/UA-DETRAC_GluonCV/raw_data/Insight-MVT_Annotation_Test/MVI_{seq_num:05d}'\n",
    "\n",
    "frame_file_paths = list(map(str, pathlib.Path(data_seq_dir_path).iterdir()))\n",
    "len(frame_file_paths)"
   ]
  },
  {
   "cell_type": "code",
   "execution_count": null,
   "metadata": {},
   "outputs": [],
   "source": [
    "n_frames = 50\n",
    "\n",
    "obj_ids = []\n",
    "boxes = []\n",
    "embs = []\n",
    "frame_idxs = []\n",
    "\n",
    "frames = debug_data['frames'][:n_frames]\n",
    "\n",
    "for frame_idx, frame in enumerate(frames):\n",
    "    input_stage = frame['stages']['input']\n",
    "    embs_list = input_stage['metadata']['embeddings']\n",
    "    entities = input_stage['entities']\n",
    "\n",
    "    for entity, emb in zip(entities, embs_list):\n",
    "        obj_id = entity['id']\n",
    "        bbox = entity['box']\n",
    "        \n",
    "        obj_ids.append(obj_id)\n",
    "        boxes.append(bbox)\n",
    "        embs.append(emb)\n",
    "        frame_idxs.append(frame_idx)\n",
    "\n",
    "obj_ids_orig = np.asarray(obj_ids)\n",
    "boxes_orig = np.asarray(boxes)\n",
    "embs_orig = np.asarray(embs)\n",
    "frame_idxs_orig = np.asarray(frame_idxs)\n",
    "\n",
    "obj_ids_orig.shape, boxes_orig.shape, embs_orig.shape, frame_idxs_orig.shape"
   ]
  },
  {
   "cell_type": "code",
   "execution_count": null,
   "metadata": {},
   "outputs": [],
   "source": [
    "subset_mask = (obj_ids_orig >= 0)\n",
    "obj_ids = obj_ids_orig[subset_mask]\n",
    "boxes = boxes_orig[subset_mask]\n",
    "embs = embs_orig[subset_mask]\n",
    "frame_idxs = frame_idxs_orig[subset_mask]\n",
    "n_classes = len(np.unique(obj_ids))\n",
    "\n",
    "obj_ids.shape, boxes.shape, embs.shape, frame_idxs.shape, n_classes"
   ]
  },
  {
   "cell_type": "code",
   "execution_count": null,
   "metadata": {},
   "outputs": [],
   "source": [
    "def calc_reduced_embs(embs, *, n_components=2, n_iter=2000):\n",
    "    tsne = TSNE(\n",
    "        n_components=n_components, n_iter=n_iter, metric='cosine'\n",
    "    )\n",
    "    embs_reduced = tsne.fit_transform(embs)\n",
    "    \n",
    "    return embs_reduced\n",
    "\n",
    "embs_reduced = calc_reduced_embs(embs)\n",
    "embs_reduced.shape"
   ]
  },
  {
   "cell_type": "code",
   "execution_count": null,
   "metadata": {},
   "outputs": [],
   "source": [
    "@functools.lru_cache(maxsize=256)\n",
    "def read_image(img_file_path):\n",
    "    return Image.open(img_file_path)\n",
    "\n",
    "def read_box_crop(img_file_path, box, max_size=40):\n",
    "    img = read_image(img_file_path)\n",
    "    roi = img.crop(tuple(box))\n",
    "    \n",
    "    w_orig, h_orig = roi.size\n",
    "    scale = max_size / max(w_orig, h_orig)\n",
    "    w = int(round(scale * w_orig))\n",
    "    h = int(round(scale * h_orig))\n",
    "    roi = roi.resize((w, h))\n",
    "    \n",
    "    offset_img = OffsetImage(roi, zoom=1)\n",
    "\n",
    "    return offset_img"
   ]
  },
  {
   "cell_type": "code",
   "execution_count": null,
   "metadata": {},
   "outputs": [],
   "source": [
    "def init_colors(n_colors, *, randomize=True):\n",
    "    colors =  list(mcolors.CSS4_COLORS.keys())\n",
    "    if randomize:\n",
    "        np.random.shuffle(colors)\n",
    "    return colors[:n_colors]\n",
    "\n",
    "class_colors = init_colors(n_classes, randomize=True)\n",
    "color_seq = [\n",
    "    class_colors[obj_id % len(class_colors)] for obj_id in obj_ids\n",
    "]\n",
    "\n",
    "fig, ax = plt.subplots(figsize=(12, 12))\n",
    "xs = embs_reduced[:, 0]\n",
    "ys = embs_reduced[:, 1]\n",
    "ax.scatter(xs, ys, alpha=0.5, s=250, c=color_seq, antialiased=True)\n",
    "\n",
    "# for x, y, obj_id, frame_idx, box in zip(xs, ys, obj_ids, frame_idxs, boxes):\n",
    "#     frame_file_path = frame_file_paths[frame_idx]\n",
    "#     box_roi = read_box_crop(frame_file_path, box)\n",
    "#     anno_box = AnnotationBbox(box_roi, (x, y), frameon=False)\n",
    "#     ax.add_artist(anno_box)\n",
    "\n",
    "min_coord = np.min(embs_reduced)\n",
    "max_coord = np.max(embs_reduced)\n",
    "ax_lims = (min_coord, max_coord)\n",
    "\n",
    "ax.set_title('Feature Embedding t-SNE Visualization')\n",
    "ax.set_xlabel('X coordinate (first component)')\n",
    "ax.set_ylabel('Y coordinate (second component)')\n",
    "ax.set_xlim(ax_lims)\n",
    "ax.set_ylim(ax_lims)\n",
    "ax.spines['top'].set_visible(False)\n",
    "ax.spines['right'].set_visible(False)\n",
    "\n",
    "fig.tight_layout()\n",
    "fig.savefig(f'emb_tsne_vis_{n_frames}.png', dpi=400)"
   ]
  }
 ],
 "metadata": {
  "interpreter": {
   "hash": "f91a5d6e4747d83f2ca8abaaaf7aacd52eac54e528eee770e3eb228d51a3694d"
  },
  "kernelspec": {
   "display_name": "Python 3.7.9 64-bit (system)",
   "language": "python",
   "name": "python3"
  },
  "language_info": {
   "codemirror_mode": {
    "name": "ipython",
    "version": 3
   },
   "file_extension": ".py",
   "mimetype": "text/x-python",
   "name": "python",
   "nbconvert_exporter": "python",
   "pygments_lexer": "ipython3",
   "version": "3.6.9"
  },
  "orig_nbformat": 4
 },
 "nbformat": 4,
 "nbformat_minor": 2
}
