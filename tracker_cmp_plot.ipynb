{
 "cells": [
  {
   "cell_type": "code",
   "execution_count": 9,
   "metadata": {},
   "outputs": [
    {
     "name": "stderr",
     "output_type": "stream",
     "text": [
      "C:\\Users\\night\\AppData\\Local\\Temp/ipykernel_3796/2009753703.py:8: MatplotlibDeprecationWarning: Support for setting the 'text.latex.preamble' or 'pgf.preamble' rcParam to a list of strings is deprecated since 3.3 and will be removed two minor releases later; set it to a single string instead.\n",
      "  rcParams['text.latex.preamble'] = [r'\\usepackage{sfmath} \\boldmath']\n"
     ]
    }
   ],
   "source": [
    "import numpy as np\n",
    "import pandas as pd\n",
    "import matplotlib.pyplot as plt\n",
    "\n",
    "from matplotlib import rc,rcParams\n",
    "\n",
    "rc('text', usetex=True)\n",
    "rcParams['text.latex.preamble'] = [r'\\usepackage{sfmath} \\boldmath']"
   ]
  },
  {
   "cell_type": "code",
   "execution_count": null,
   "metadata": {},
   "outputs": [],
   "source": []
  },
  {
   "cell_type": "code",
   "execution_count": 21,
   "metadata": {},
   "outputs": [
    {
     "data": {
      "text/plain": [
       "[0.3864601802837824,\n",
       " 0.7845800336081861,\n",
       " 0.974288928960365,\n",
       " 0.6959865477867304,\n",
       " 0.1490566341703914,\n",
       " 0.5830547896885131,\n",
       " 0.5723720865594735,\n",
       " 0.8983608209478274,\n",
       " 0.35854055777055205,\n",
       " 0.9891208272945311]"
      ]
     },
     "execution_count": 21,
     "metadata": {},
     "output_type": "execute_result"
    }
   ],
   "source": [
    "np.random.rand(10).tolist()"
   ]
  },
  {
   "cell_type": "code",
   "execution_count": 30,
   "metadata": {},
   "outputs": [
    {
     "data": {
      "text/html": [
       "<div>\n",
       "<style scoped>\n",
       "    .dataframe tbody tr th:only-of-type {\n",
       "        vertical-align: middle;\n",
       "    }\n",
       "\n",
       "    .dataframe tbody tr th {\n",
       "        vertical-align: top;\n",
       "    }\n",
       "\n",
       "    .dataframe thead th {\n",
       "        text-align: right;\n",
       "    }\n",
       "</style>\n",
       "<table border=\"1\" class=\"dataframe\">\n",
       "  <thead>\n",
       "    <tr style=\"text-align: right;\">\n",
       "      <th></th>\n",
       "      <th>mota</th>\n",
       "      <th>motp</th>\n",
       "      <th>model</th>\n",
       "      <th>loss</th>\n",
       "      <th>solver</th>\n",
       "    </tr>\n",
       "  </thead>\n",
       "  <tbody>\n",
       "    <tr>\n",
       "      <th>0</th>\n",
       "      <td>74.526666</td>\n",
       "      <td>21.339318</td>\n",
       "      <td>0060000</td>\n",
       "      <td>contrastive</td>\n",
       "      <td>feature_emb</td>\n",
       "    </tr>\n",
       "    <tr>\n",
       "      <th>1</th>\n",
       "      <td>69.699125</td>\n",
       "      <td>20.417569</td>\n",
       "      <td>0060000</td>\n",
       "      <td>none</td>\n",
       "      <td>feature_emb</td>\n",
       "    </tr>\n",
       "    <tr>\n",
       "      <th>2</th>\n",
       "      <td>74.286341</td>\n",
       "      <td>14.740651</td>\n",
       "      <td>0050000</td>\n",
       "      <td>contrastive</td>\n",
       "      <td>original</td>\n",
       "    </tr>\n",
       "    <tr>\n",
       "      <th>3</th>\n",
       "      <td>76.117625</td>\n",
       "      <td>14.724321</td>\n",
       "      <td>0050000</td>\n",
       "      <td>none</td>\n",
       "      <td>original</td>\n",
       "    </tr>\n",
       "    <tr>\n",
       "      <th>4</th>\n",
       "      <td>68.733301</td>\n",
       "      <td>15.244963</td>\n",
       "      <td>0060000</td>\n",
       "      <td>contrastive</td>\n",
       "      <td>feature_emb</td>\n",
       "    </tr>\n",
       "    <tr>\n",
       "      <th>5</th>\n",
       "      <td>75.079503</td>\n",
       "      <td>21.908421</td>\n",
       "      <td>0060000</td>\n",
       "      <td>triplet</td>\n",
       "      <td>original</td>\n",
       "    </tr>\n",
       "    <tr>\n",
       "      <th>6</th>\n",
       "      <td>75.975693</td>\n",
       "      <td>17.893252</td>\n",
       "      <td>0040000</td>\n",
       "      <td>none</td>\n",
       "      <td>feature_emb</td>\n",
       "    </tr>\n",
       "    <tr>\n",
       "      <th>7</th>\n",
       "      <td>68.090698</td>\n",
       "      <td>15.872456</td>\n",
       "      <td>0050000</td>\n",
       "      <td>triplet</td>\n",
       "      <td>original</td>\n",
       "    </tr>\n",
       "  </tbody>\n",
       "</table>\n",
       "</div>"
      ],
      "text/plain": [
       "        mota       motp    model         loss       solver\n",
       "0  74.526666  21.339318  0060000  contrastive  feature_emb\n",
       "1  69.699125  20.417569  0060000         none  feature_emb\n",
       "2  74.286341  14.740651  0050000  contrastive     original\n",
       "3  76.117625  14.724321  0050000         none     original\n",
       "4  68.733301  15.244963  0060000  contrastive  feature_emb\n",
       "5  75.079503  21.908421  0060000      triplet     original\n",
       "6  75.975693  17.893252  0040000         none  feature_emb\n",
       "7  68.090698  15.872456  0050000      triplet     original"
      ]
     },
     "execution_count": 30,
     "metadata": {},
     "output_type": "execute_result"
    }
   ],
   "source": [
    "model_prop_val_map = {\n",
    "    '0040000': 'r',\n",
    "    '0050000': 'g',\n",
    "    '0060000': 'b',\n",
    "}\n",
    "model_prop = 'c'\n",
    "\n",
    "emb_loss_prop_val_map = {\n",
    "    'none': None,\n",
    "    'contrastive': None,\n",
    "    'triplet': None,\n",
    "}\n",
    "\n",
    "solver_prop_val_map = {\n",
    "    'original': '$',\n",
    "    'feature_emb': None,\n",
    "}\n",
    "\n",
    "def rand_between(size, a, b):\n",
    "    return (np.random.rand(size) * (b - a) + a).tolist()\n",
    "\n",
    "n_vals = 8\n",
    "\n",
    "models = ('0040000', '0050000', '0060000')\n",
    "emb_losses = ('none', 'contrastive', 'triplet')\n",
    "solvers = ('original', 'feature_emb')\n",
    "\n",
    "data = {\n",
    "    'mota': rand_between(n_vals, 68, 77),\n",
    "    'motp': rand_between(n_vals, 13, 22),\n",
    "    'model': [np.random.choice(models) for _ in range(n_vals)],\n",
    "    'loss': [np.random.choice(emb_losses) for _ in range(n_vals)],\n",
    "    'solver': [np.random.choice(solvers) for _ in range(n_vals)],\n",
    "}\n",
    "\n",
    "df = pd.DataFrame.from_dict(data)\n",
    "df"
   ]
  },
  {
   "cell_type": "code",
   "execution_count": 32,
   "metadata": {},
   "outputs": [
    {
     "name": "stdout",
     "output_type": "stream",
     "text": [
      "(('contrastive', 'feature_emb'),         mota       motp    model         loss       solver\n",
      "0  74.526666  21.339318  0060000  contrastive  feature_emb\n",
      "4  68.733301  15.244963  0060000  contrastive  feature_emb)\n",
      "(('contrastive', 'original'),         mota       motp    model         loss    solver\n",
      "2  74.286341  14.740651  0050000  contrastive  original)\n",
      "(('none', 'feature_emb'),         mota       motp    model  loss       solver\n",
      "1  69.699125  20.417569  0060000  none  feature_emb\n",
      "6  75.975693  17.893252  0040000  none  feature_emb)\n",
      "(('none', 'original'),         mota       motp    model  loss    solver\n",
      "3  76.117625  14.724321  0050000  none  original)\n",
      "(('triplet', 'original'),         mota       motp    model     loss    solver\n",
      "5  75.079503  21.908421  0060000  triplet  original\n",
      "7  68.090698  15.872456  0050000  triplet  original)\n"
     ]
    }
   ],
   "source": [
    "for g in df.groupby(['loss', 'solver']):\n",
    "    print(g)"
   ]
  },
  {
   "cell_type": "code",
   "execution_count": 19,
   "metadata": {},
   "outputs": [
    {
     "name": "stdout",
     "output_type": "stream",
     "text": [
      "$\\textbf{MOTA}$ [\\%]\n"
     ]
    },
    {
     "name": "stderr",
     "output_type": "stream",
     "text": [
      "C:\\Users\\night\\AppData\\Local\\Temp/ipykernel_3796/2840516081.py:30: UserWarning: Matplotlib is currently using module://matplotlib_inline.backend_inline, which is a non-GUI backend, so cannot show the figure.\n",
      "  fig.show()\n"
     ]
    },
    {
     "data": {
      "image/png": "[encoded data removed]",
      "text/plain": [
       "<Figure size 648x504 with 1 Axes>"
      ]
     },
     "metadata": {
      "needs_background": "light"
     },
     "output_type": "display_data"
    }
   ],
   "source": [
    "def build_prop_dict(vals, vals_prop_map, prop_name):\n",
    "    prop_vals = [vals_prop_map[v] for v in vals]\n",
    "    prop_dict = {prop_name: prop_vals}\n",
    "    return prop_dict\n",
    "\n",
    "def build_axis_label(text, units=None):\n",
    "    label = rf'$\\textbf{{{text}}}$'\n",
    "    if units is not None:\n",
    "        label += f' [{units}]'\n",
    "    return label\n",
    "\n",
    "x_label = 'MOTA'\n",
    "y_label = 'MOTP'\n",
    "x_units = y_units = '\\%'\n",
    "size = 25 ** 2\n",
    "\n",
    "x_label_formatted = build_axis_label(x_label, x_units)\n",
    "y_label_formatted = build_axis_label(y_label, y_units)\n",
    "\n",
    "prop_dict = build_prop_dict(models, model_prop_val_map, model_prop)\n",
    "\n",
    "fig, ax = plt.subplots(figsize=(9, 7), nrows=1, ncols=1)\n",
    "\n",
    "ax.set_title(r'$\\textbf{Tracker Performance Comparison}$')\n",
    "ax.set_xlabel(x_label_formatted)\n",
    "ax.set_ylabel(y_label_formatted)\n",
    "\n",
    "ax.scatter(scores[:, 0], scores[:, 1], s=size, marker=r'$\\bigtriangleup$', label=\"aaa\", **prop_dict)\n",
    "ax.legend(loc='best')\n",
    "\n",
    "fig.show()"
   ]
  }
 ],
 "metadata": {
  "interpreter": {
   "hash": "76ca744f2f2bbdc513f12385c5c1408b7d19822a54ce48d4d56c79d4676f5a55"
  },
  "kernelspec": {
   "display_name": "Python 3.6.9 64-bit ('ml': venv)",
   "language": "python",
   "name": "python3"
  },
  "language_info": {
   "codemirror_mode": {
    "name": "ipython",
    "version": 3
   },
   "file_extension": ".py",
   "mimetype": "text/x-python",
   "name": "python",
   "nbconvert_exporter": "python",
   "pygments_lexer": "ipython3",
   "version": "3.9.7"
  },
  "orig_nbformat": 4
 },
 "nbformat": 4,
 "nbformat_minor": 2
}
