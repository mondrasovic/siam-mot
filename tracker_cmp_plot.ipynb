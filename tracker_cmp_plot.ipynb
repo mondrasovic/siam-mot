{
 "cells": [
  {
   "cell_type": "code",
   "execution_count": null,
   "metadata": {},
   "outputs": [],
   "source": [
    "import pathlib\n",
    "\n",
    "import numpy as np\n",
    "import pandas as pd\n",
    "import matplotlib.pyplot as plt\n",
    "import matplotlib.colors as mcolors\n",
    "\n",
    "from matplotlib import rc, rcParams\n",
    "\n",
    "%matplotlib inline\n",
    "\n",
    "rc('text', usetex=True)\n",
    "font = {'family': 'Times New Roman', 'weight': 'bold', 'size': 14}\n",
    "rc('font', **font)\n",
    "rcParams['text.latex.preamble'] = [r'\\usepackage{sfmath} \\boldmath']"
   ]
  },
  {
   "cell_type": "code",
   "execution_count": null,
   "metadata": {},
   "outputs": [],
   "source": [
    "model_vals = []\n",
    "solver_vals = []\n",
    "loss_vals = []\n",
    "overall_scores_rows = []\n",
    "columns = None\n",
    "\n",
    "for results_file in pathlib.Path('./eval').rglob('eval_results.csv'):\n",
    "    model_dir = results_file.parent.parent\n",
    "    solver_dir = model_dir.parent\n",
    "    loss_dir = solver_dir.parent\n",
    "\n",
    "    model = model_dir.stem\n",
    "    solver = solver_dir.stem\n",
    "    loss = loss_dir.stem\n",
    "\n",
    "    model_vals.append(model)\n",
    "    solver_vals.append(solver)\n",
    "    loss_vals.append(loss)\n",
    "\n",
    "    df = pd.read_csv(str(results_file), index_col=0)\n",
    "    columns = df.columns\n",
    "    overall_scores = df.iloc[-1]\n",
    "    overall_scores_rows.append(overall_scores)\n",
    "\n",
    "df_orig = pd.DataFrame(overall_scores_rows, columns=columns)\n",
    "df_orig.insert(0, 'model', model_vals)\n",
    "df_orig.insert(1, 'solver', solver_vals)\n",
    "df_orig.insert(2, 'loss', loss_vals)\n",
    "df_orig.reset_index(drop=True, inplace=True)\n",
    "df_orig"
   ]
  },
  {
   "cell_type": "code",
   "execution_count": null,
   "metadata": {},
   "outputs": [],
   "source": [
    "df_orig_sub = df_orig[df_orig['model'] == '0040000']\n",
    "df_orig_sub"
   ]
  },
  {
   "cell_type": "code",
   "execution_count": null,
   "metadata": {},
   "outputs": [],
   "source": [
    "df = df_orig[\n",
    "    (df_orig['model'] == '0030000') |\n",
    "    (df_orig['model'] == '0040000') |\n",
    "    (df_orig['model'] == '0050000')\n",
    "]\n",
    "df"
   ]
  },
  {
   "cell_type": "code",
   "execution_count": null,
   "metadata": {},
   "outputs": [],
   "source": [
    "def plot_tracker_loss_solver_comparison(\n",
    "    df, x_col, y_col, x_label, y_label, x_units='\\%', y_units='\\%'\n",
    "):\n",
    "    def _build_axis_label(text, units=None):\n",
    "        label = rf'$\\textbf{{{text}}}$'\n",
    "        if units is not None:\n",
    "            label += f' [{units}]'\n",
    "        return label\n",
    "\n",
    "    fig, ax = plt.subplots(figsize=(20, 12), nrows=1, ncols=1)\n",
    "\n",
    "    base_colors =  list(mcolors.BASE_COLORS.keys())\n",
    "    unique_models = df['model'].unique().tolist()\n",
    "\n",
    "    size = 35 ** 2\n",
    "    for solver, group_solver_df in df.groupby(['solver']):\n",
    "        if solver == 'orig':\n",
    "            facecolors = 'none'\n",
    "        else:\n",
    "            facecolors = edgecolors = None\n",
    "        \n",
    "        for loss, group_loss_df in group_solver_df.groupby(['loss']):\n",
    "            if loss == 'none':\n",
    "                marker = 'o'\n",
    "            elif loss == 'contr':\n",
    "                marker = 'X'\n",
    "            else:  # triplet\n",
    "                marker = '^'\n",
    "        \n",
    "            for model, group_model_df in group_loss_df.groupby(['model']):\n",
    "                xs, ys = group_model_df[x_col], group_model_df[y_col]    \n",
    "                \n",
    "                curr_color = base_colors[unique_models.index(model)]\n",
    "                label = rf'${solver}, {loss}, {str(int(model))}$'\n",
    "                if facecolors == 'none':\n",
    "                    color = None\n",
    "                    edgecolors = curr_color\n",
    "                else:\n",
    "                    color = curr_color\n",
    "                \n",
    "                ax.scatter(\n",
    "                    xs, ys, s=size, c=color, label=label, marker=marker,\n",
    "                    facecolors=facecolors, edgecolors=edgecolors, linewidth=4,\n",
    "                    alpha=0.7\n",
    "                )\n",
    "    \n",
    "    x_label_formatted = _build_axis_label(x_label, x_units)\n",
    "    y_label_formatted = _build_axis_label(y_label, y_units)\n",
    "    \n",
    "    ax.set_title(\n",
    "        r'$\\textbf{Tracker Performance Comparison --- ' + \n",
    "        rf'Training Iterations, Loss, Solver --- {x_label} vs. {y_label}}}$'\n",
    "    )\n",
    "    ax.set_xlabel(x_label_formatted)\n",
    "    ax.set_ylabel(y_label_formatted)\n",
    "    ax.legend(loc='best', markerscale=0.5, fontsize=14)\n",
    "\n",
    "    return fig\n",
    "\n",
    "fig_mota_motp = plot_tracker_loss_solver_comparison(\n",
    "    df, 'mota', 'motp', 'MOTA', 'MOTP'\n",
    ")\n",
    "fig_mota_motp.savefig('tracker_cmp_plot_mota_motp.png', dpi=300)"
   ]
  },
  {
   "cell_type": "code",
   "execution_count": null,
   "metadata": {},
   "outputs": [],
   "source": [
    "fig_rec_prec = plot_tracker_loss_solver_comparison(\n",
    "    df, 'recall', 'precision', 'Recall', 'Precision'\n",
    ")\n",
    "fig_rec_prec.savefig('tracker_cmp_plot_rec_prec.png', dpi=300)"
   ]
  }
 ],
 "metadata": {
  "interpreter": {
   "hash": "76ca744f2f2bbdc513f12385c5c1408b7d19822a54ce48d4d56c79d4676f5a55"
  },
  "kernelspec": {
   "display_name": "Python 3.6.9 64-bit ('ml': venv)",
   "language": "python",
   "name": "python3"
  },
  "language_info": {
   "codemirror_mode": {
    "name": "ipython",
    "version": 3
   },
   "file_extension": ".py",
   "mimetype": "text/x-python",
   "name": "python",
   "nbconvert_exporter": "python",
   "pygments_lexer": "ipython3",
   "version": "3.6.9"
  },
  "orig_nbformat": 4
 },
 "nbformat": 4,
 "nbformat_minor": 2
}
