{
 "cells": [
  {
   "cell_type": "code",
   "execution_count": null,
   "metadata": {},
   "outputs": [],
   "source": [
    "import random\n",
    "\n",
    "import torch\n",
    "import numpy as np\n",
    "import cv2 as cv\n",
    "import torch.nn as nn\n",
    "import torch.nn.functional as F\n",
    "import matplotlib.pyplot as plt\n",
    "import matplotlib.colors as mcolors\n",
    "\n",
    "from sklearn.manifold import TSNE\n",
    "\n",
    "from maskrcnn_benchmark.structures.bounding_box import BoxList\n",
    "from maskrcnn_benchmark.structures.boxlist_ops import boxlist_iou"
   ]
  },
  {
   "cell_type": "code",
   "execution_count": null,
   "metadata": {},
   "outputs": [],
   "source": [
    "def init_colors(n_colors, *, randomize=True):\n",
    "    colors =  list(mcolors.BASE_COLORS.keys())\n",
    "    if randomize:\n",
    "        random.shuffle(colors)\n",
    "    return colors[:n_colors]\n",
    "\n",
    "tsne = TSNE(n_components=2, n_iter=3000, metric='cosine')\n",
    "embs_reduced = tsne.fit_transform(embs.detach().numpy())\n",
    "\n",
    "class_colors = init_colors(n_classes, randomize=False)\n",
    "color_seq = [class_colors[label] for label in labels.tolist()]\n",
    "\n",
    "fig, ax = plt.subplots(figsize=(10, 8))\n",
    "xs = embs_reduced[:, 0]\n",
    "ys = embs_reduced[:, 1]\n",
    "ax.scatter(xs, ys, alpha=0.8, c=color_seq)"
   ]
  },
  {
   "cell_type": "code",
   "execution_count": null,
   "metadata": {},
   "outputs": [],
   "source": [
    "def features_to_emb(features: torch.Tensor) -> torch.Tensor:\n",
    "    \"\"\"Computes embedding vectors from tracker template (exemplar) features.\n",
    "    For each feature tensor in a batch, it applies global average pooling along\n",
    "    the channel dimension. Afterwards, it L2-normalizes the vectors to project\n",
    "    them onto a unit hypersphere.\n",
    "\n",
    "    Args:\n",
    "        features (torch.Tensor): template features of shape [B, C, S, S]\n",
    "\n",
    "    Returns:\n",
    "        torch.Tensor: embedding vectors of shape [B, C]\n",
    "    \"\"\"\n",
    "    batch_size, n_channels, kernel_size, _ = features.shape\n",
    "    avg = F.avg_pool2d(features, kernel_size=kernel_size)   # [B, C, 1, 1]\n",
    "    avg  = avg.reshape((batch_size, n_channels))  # [B, C]\n",
    "    norm = torch.linalg.norm(avg, dim=1)  # [B,]\n",
    "    emb = avg / norm[..., None]  # [B, C]\n",
    "    \n",
    "    return emb\n",
    "\n",
    "features = torch.rand((1, 128, 15, 15))\n",
    "features_to_emb(features).shape"
   ]
  },
  {
   "cell_type": "code",
   "execution_count": null,
   "metadata": {},
   "outputs": [],
   "source": [
    "t = torch.rand((10,), dtype=torch.float).cuda()\n",
    "t.device"
   ]
  }
 ],
 "metadata": {
  "interpreter": {
   "hash": "f91a5d6e4747d83f2ca8abaaaf7aacd52eac54e528eee770e3eb228d51a3694d"
  },
  "kernelspec": {
   "display_name": "Python 3.7.9 64-bit (system)",
   "name": "python3"
  },
  "language_info": {
   "codemirror_mode": {
    "name": "ipython",
    "version": 3
   },
   "file_extension": ".py",
   "mimetype": "text/x-python",
   "name": "python",
   "nbconvert_exporter": "python",
   "pygments_lexer": "ipython3",
   "version": "3.7.9"
  },
  "orig_nbformat": 4
 },
 "nbformat": 4,
 "nbformat_minor": 2
}
