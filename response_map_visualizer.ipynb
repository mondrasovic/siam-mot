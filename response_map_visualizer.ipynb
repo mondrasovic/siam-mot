{
 "cells": [
  {
   "cell_type": "code",
   "execution_count": null,
   "metadata": {},
   "outputs": [],
   "source": [
    "import pathlib\n",
    "\n",
    "import cv2 as cv\n",
    "import matplotlib.pyplot as plt\n",
    "import numpy as np\n",
    "\n",
    "%load_ext autoreload\n",
    "%autoreload 2\n",
    "\n",
    "%matplotlib inline"
   ]
  },
  {
   "cell_type": "code",
   "execution_count": null,
   "metadata": {},
   "outputs": [],
   "source": [
    "seq_id = 39031\n",
    "seq_dir_name = f'MVI_{seq_id}'\n",
    "\n",
    "response_map_vis_dir = pathlib.Path('./response_map_vis')\n",
    "response_map_data_seq_dir = pathlib.Path(response_map_vis_dir) / seq_dir_name\n",
    "\n",
    "dataset_dir = pathlib.Path('../../datasets/UA-DETRAC_GluonCV')\n",
    "images_dir = dataset_dir / 'raw_data' / 'Insight-MVT_Annotation_Test' / seq_dir_name"
   ]
  },
  {
   "cell_type": "code",
   "execution_count": null,
   "metadata": {},
   "outputs": [],
   "source": [
    "frame_num = 1\n",
    "image_file = images_dir / f'img{frame_num:05d}.jpg'\n",
    "print(image_file)\n",
    "image = cv.imread(str(image_file), cv.IMREAD_COLOR)\n",
    "frame_text = f'frame_{frame_num:04d}_'\n",
    "response_map_file = response_map_data_seq_dir / (frame_text + 'response_map.npy')\n",
    "boxes_file = response_map_data_seq_dir / (frame_text + 'boxes.npy')\n",
    "response_maps = np.load(response_map_file)\n",
    "boxes = np.load(boxes_file)\n",
    "image.shape, response_maps.shape, boxes.shape"
   ]
  },
  {
   "cell_type": "code",
   "execution_count": null,
   "metadata": {},
   "outputs": [],
   "source": [
    "def image_show(image):\n",
    "    plt.imshow(image[:,:,::-1])\n",
    "\n",
    "image_show(image)"
   ]
  },
  {
   "cell_type": "code",
   "execution_count": null,
   "metadata": {},
   "outputs": [],
   "source": [
    "def resize_boxes(boxes_xyxy, old_size, new_size):\n",
    "    scale_xy = np.asarray(new_size) / np.asarray(old_size)\n",
    "    scale = np.concatenate((scale_xy, scale_xy))\n",
    "    boxes_resized = boxes_xyxy * scale\n",
    "    return boxes_resized\n",
    "\n",
    "boxes = resize_boxes(boxes, (960, 512), (960, 540))\n",
    "boxes = boxes.round().astype(int).tolist()\n",
    "boxes"
   ]
  },
  {
   "cell_type": "code",
   "execution_count": null,
   "metadata": {},
   "outputs": [],
   "source": [
    "def draw_box(image, box):\n",
    "    x1, y1, x2, y2 = box\n",
    "    cv.rectangle(image, (x1, y1), (x2, y2), color=(0, 255, 0), thickness=1, lineType=cv.LINE_AA)\n",
    "\n",
    "def draw_response_map(image, box, response_map, reduction=np.mean, upscale=16):\n",
    "    response_map_reduced = reduction(response_map, axis=0, keepdims=True)\n",
    "    response_map_reduced = np.transpose(response_map_reduced, (1, 2, 0))\n",
    "    height, width, _ = response_map_reduced.shape\n",
    "    new_height, new_width = height * upscale, width * upscale\n",
    "    response_map_resized = cv.resize(response_map_reduced, (new_height, new_width), interpolation=cv.INTER_CUBIC)\n",
    "    response_map_norm = ((response_map_resized / np.max(response_map_resized)) * 255).round().astype(np.uint8)\n",
    "    response_cmap = cv.applyColorMap(response_map_norm, cv.COLORMAP_JET)\n",
    "    return response_cmap\n",
    "\n",
    "for box in boxes:\n",
    "    draw_box(image, box)\n",
    "\n",
    "# image_show(image)\n",
    "rm_cmap = draw_response_map(image, box, response_maps[0])\n",
    "image_show(rm_cmap)"
   ]
  },
  {
   "cell_type": "code",
   "execution_count": null,
   "metadata": {},
   "outputs": [],
   "source": [
    "from response_map_vis import (\n",
    "    create_response_heatmaps, stack_response_heatmaps, draw_heatmaps_comparison\n",
    ")\n",
    "\n",
    "out_size = 64\n",
    "response_heatmaps = create_response_heatmaps(response_maps)\n",
    "heatmaps_stacked = stack_response_heatmaps(\n",
    "    response_heatmaps, 'horizontal', out_height=out_size, out_width=out_size\n",
    ")\n",
    "frame = draw_heatmaps_comparison(image, boxes, boxes, heatmaps_stacked, heatmaps_stacked)\n",
    "image_show(frame)"
   ]
  }
 ],
 "metadata": {
  "interpreter": {
   "hash": "76ca744f2f2bbdc513f12385c5c1408b7d19822a54ce48d4d56c79d4676f5a55"
  },
  "kernelspec": {
   "display_name": "Python 3.6.9 64-bit ('ml': venv)",
   "language": "python",
   "name": "python3"
  },
  "language_info": {
   "codemirror_mode": {
    "name": "ipython",
    "version": 3
   },
   "file_extension": ".py",
   "mimetype": "text/x-python",
   "name": "python",
   "nbconvert_exporter": "python",
   "pygments_lexer": "ipython3",
   "version": "3.6.9"
  },
  "orig_nbformat": 4
 },
 "nbformat": 4,
 "nbformat_minor": 2
}
