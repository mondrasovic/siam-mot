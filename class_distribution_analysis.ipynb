{
 "cells": [
  {
   "cell_type": "code",
   "execution_count": 1,
   "metadata": {},
   "outputs": [
    {
     "name": "stderr",
     "output_type": "stream",
     "text": [
      "E:\\venvs\\siam-mot\\lib\\site-packages\\ipykernel_launcher.py:79: UserWarning: Matplotlib is currently using module://matplotlib_inline.backend_inline, which is a non-GUI backend, so cannot show the figure.\n"
     ]
    },
    {
     "data": {
      "image/png": "[encoded data removed]",
      "text/plain": [
       "<Figure size 792x288 with 1 Axes>"
      ]
     },
     "metadata": {
      "needs_background": "light"
     },
     "output_type": "display_data"
    }
   ],
   "source": [
    "#  grep --include=\"*.xml\" -oR -P 'vehicle_type=\"[-a-zA-Z]*' | cut -c 32- | sort | uniq -c\n",
    "\n",
    "import numpy as np\n",
    "import matplotlib.pyplot as plt\n",
    "\n",
    "plt.rcParams['font.family'] = 'Times New Roman'\n",
    "\n",
    "stats_train = \"\"\"\n",
    "  34405 Bus\n",
    "   6209 Hatchback\n",
    "  12784 MiniVan\n",
    "    348 Police\n",
    " 289277 Sedan\n",
    " 111610 Suv\n",
    "  94929 Taxi\n",
    "    660 Truck-Box-Large\n",
    "   1588 Truck-Box-Med\n",
    "    257 Truck-Flatbed\n",
    "    329 Truck-Pickup\n",
    "    945 Truck-Util\n",
    "  44940 Van\n",
    "\"\"\"\n",
    "\n",
    "stats_test = \"\"\"\n",
    "  75624 Bus\n",
    "   9205 Hatchback\n",
    "  16695 MiniVan\n",
    "    474 Police\n",
    " 301555 Sedan\n",
    " 105964 Suv\n",
    " 116932 Taxi\n",
    "   3611 Truck-Box-Large\n",
    "   1609 Truck-Box-Med\n",
    "   1158 Truck-Flatbed\n",
    "      0 Truck-Pickup\n",
    "  10547 Truck-Util\n",
    "  32400 Van\n",
    "\"\"\"\n",
    "\n",
    "def split_txt_stats(txt_stats):\n",
    "    for line in filter(lambda l: l, txt_stats.split(\"\\n\")):\n",
    "        tokens = line.split()\n",
    "        category, count = tokens[1].replace('Truck', 'T'), int(tokens[0])\n",
    "        yield category, count\n",
    "\n",
    "def plot_train_test_datasetbar_chart(\n",
    "    ax, xs_train, xs_test, labels, title, width=0.4\n",
    "):\n",
    "    x = np.arange(len(labels))\n",
    "\n",
    "    ax.bar(x - width / 2, xs_train, width, label=\"Train dataset\")\n",
    "    ax.bar(x + width / 2, xs_test, width, label=\"Test dataset\")\n",
    "\n",
    "    ax.set_title(title)\n",
    "    ax.set_xlabel(\"Object category\")\n",
    "    ax.set_ylabel(\"Number of occurrences\")\n",
    "    ax.set_xticks(x)\n",
    "    ax.set_xticklabels(labels)\n",
    "\n",
    "    ax.legend()\n",
    "\n",
    "labels = []\n",
    "xs_train, xs_test = [], []\n",
    "\n",
    "data_train = split_txt_stats(stats_train)\n",
    "data_test = split_txt_stats(stats_test)\n",
    "\n",
    "for (label, x_train), (_, x_test) in zip(data_train, data_test):\n",
    "    labels.append(label)\n",
    "    xs_train.append(x_train)\n",
    "    xs_test.append(x_test)\n",
    "\n",
    "fig, ax = plt.subplots(nrows=1, ncols=1, figsize=(11, 4))\n",
    "plot_train_test_datasetbar_chart(\n",
    "    ax, xs_train, xs_test, labels, \"UA-DETRAC dataset statistics\"\n",
    ")\n",
    "fig.tight_layout()\n",
    "fig.savefig('./ua_detrac_dataset_stats.png', dpi=300)\n",
    "fig.show()"
   ]
  },
  {
   "cell_type": "code",
   "execution_count": 4,
   "metadata": {},
   "outputs": [],
   "source": [
    "import json\n",
    "\n",
    "with open('E:/anno.json', 'rt') as file:\n",
    "    content = json.load(file)"
   ]
  },
  {
   "cell_type": "code",
   "execution_count": 6,
   "metadata": {},
   "outputs": [
    {
     "data": {
      "text/plain": [
       "{'description': 'UA-DETRAC benchmark dataset XML ingestion',\n",
       " 'key_hash': 0,\n",
       " 'last_modified': '2021-10-09 06:55:41.382394',\n",
       " 'version': '1.0.0.'}"
      ]
     },
     "execution_count": 6,
     "metadata": {},
     "output_type": "execute_result"
    }
   ],
   "source": [
    "content['metadata']"
   ]
  }
 ],
 "metadata": {
  "interpreter": {
   "hash": "f91a5d6e4747d83f2ca8abaaaf7aacd52eac54e528eee770e3eb228d51a3694d"
  },
  "kernelspec": {
   "display_name": "Python 3.7.9 64-bit (system)",
   "name": "python3"
  },
  "language_info": {
   "codemirror_mode": {
    "name": "ipython",
    "version": 3
   },
   "file_extension": ".py",
   "mimetype": "text/x-python",
   "name": "python",
   "nbconvert_exporter": "python",
   "pygments_lexer": "ipython3",
   "version": "3.7.9"
  },
  "orig_nbformat": 4
 },
 "nbformat": 4,
 "nbformat_minor": 2
}
