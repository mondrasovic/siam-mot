{
 "cells": [
  {
   "cell_type": "code",
   "execution_count": 23,
   "metadata": {},
   "outputs": [
    {
     "name": "stdout",
     "output_type": "stream",
     "text": [
      "The autoreload extension is already loaded. To reload it, use:\n",
      "  %reload_ext autoreload\n"
     ]
    }
   ],
   "source": [
    "import torch\n",
    "import torch.nn as nn\n",
    "import torch.nn.functional as F\n",
    "\n",
    "%load_ext autoreload\n",
    "%autoreload 2"
   ]
  },
  {
   "cell_type": "code",
   "execution_count": 24,
   "metadata": {},
   "outputs": [
    {
     "data": {
      "text/plain": [
       "torch.Size([6, 256])"
      ]
     },
     "execution_count": 24,
     "metadata": {},
     "output_type": "execute_result"
    }
   ],
   "source": [
    "from siammot.modelling.track_head.EMM.feature_emb import FeatureEmbHead\n",
    "\n",
    "B = 6\n",
    "S = 15\n",
    "n_channels = 128\n",
    "\n",
    "features = torch.rand((B, n_channels, S, S))\n",
    "model = FeatureEmbHead(n_channels)\n",
    "embs = model(features)\n",
    "embs.shape"
   ]
  },
  {
   "cell_type": "code",
   "execution_count": 25,
   "metadata": {},
   "outputs": [
    {
     "name": "stdout",
     "output_type": "stream",
     "text": [
      "----------------------------------------------------------------\n",
      "        Layer (type)               Output Shape         Param #\n",
      "================================================================\n",
      "            Conv2d-1          [-1, 128, 13, 13]         147,456\n",
      "              ReLU-2          [-1, 128, 13, 13]               0\n",
      "            Conv2d-3          [-1, 128, 11, 11]         147,456\n",
      "              ReLU-4          [-1, 128, 11, 11]               0\n",
      "           Flatten-5                [-1, 15488]               0\n",
      "           Dropout-6                [-1, 15488]               0\n",
      "            Linear-7                  [-1, 512]       7,930,368\n",
      "              ReLU-8                  [-1, 512]               0\n",
      "           Dropout-9                  [-1, 512]               0\n",
      "           Linear-10                  [-1, 256]         131,328\n",
      "================================================================\n",
      "Total params: 8,356,608\n",
      "Trainable params: 8,356,608\n",
      "Non-trainable params: 0\n",
      "----------------------------------------------------------------\n",
      "Input size (MB): 0.11\n",
      "Forward/backward pass size (MB): 0.82\n",
      "Params size (MB): 31.88\n",
      "Estimated Total Size (MB): 32.80\n",
      "----------------------------------------------------------------\n"
     ]
    }
   ],
   "source": [
    "from torchsummary import summary\n",
    "\n",
    "summary(model.cuda(), (128, 15, 15))"
   ]
  }
 ],
 "metadata": {
  "interpreter": {
   "hash": "f91a5d6e4747d83f2ca8abaaaf7aacd52eac54e528eee770e3eb228d51a3694d"
  },
  "kernelspec": {
   "display_name": "Python 3.7.9 64-bit (system)",
   "language": "python",
   "name": "python3"
  },
  "language_info": {
   "codemirror_mode": {
    "name": "ipython",
    "version": 3
   },
   "file_extension": ".py",
   "mimetype": "text/x-python",
   "name": "python",
   "nbconvert_exporter": "python",
   "pygments_lexer": "ipython3",
   "version": "3.6.9"
  },
  "orig_nbformat": 4
 },
 "nbformat": 4,
 "nbformat_minor": 2
}
