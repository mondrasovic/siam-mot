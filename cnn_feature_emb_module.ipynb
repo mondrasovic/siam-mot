{
 "cells": [
  {
   "cell_type": "code",
   "execution_count": null,
   "metadata": {},
   "outputs": [],
   "source": [
    "import torch\n",
    "import torch.nn as nn\n",
    "import torch.nn.functional as F"
   ]
  },
  {
   "cell_type": "code",
   "execution_count": 13,
   "metadata": {},
   "outputs": [
    {
     "name": "stdout",
     "output_type": "stream",
     "text": [
      "torch.Size([6, 128, 11, 11])\n"
     ]
    },
    {
     "data": {
      "text/plain": [
       "torch.Size([6, 128])"
      ]
     },
     "execution_count": 13,
     "metadata": {},
     "output_type": "execute_result"
    }
   ],
   "source": [
    "class FeatureEmbCreator(nn.Module):\n",
    "    \"\"\"Converts exemplar (template) features produced by a Siamese tracker into\n",
    "    1D embedding vectors for subsequent re-identification (ReID) purposes.\n",
    "    \"\"\"\n",
    "\n",
    "    def __init__(self, n_channels: int = 128) -> None:\n",
    "        \"\"\"Constructor.\n",
    "\n",
    "        Args:\n",
    "            n_channels (int, optional): Number of channels of template features.\n",
    "            Defaults to 128.\n",
    "        \"\"\"\n",
    "        super().__init__()\n",
    "\n",
    "        self.conv1 = self._build_conv3x3(n_channels)\n",
    "        self.conv2 = self._build_conv3x3(n_channels)\n",
    "    \n",
    "    def forward(self, features: torch.Tensor) -> torch.Tensor:\n",
    "        \"\"\"Computes embedding vectors from tracker template (exemplar) features.\n",
    "        For each feature tensor in a batch, it applie nonlinear transformation\n",
    "        followed by Global Average Pooling (GAP) along the channel dimension.\n",
    "        Afterwards, it L2-normalizes the vectors to project them onto a unit\n",
    "        hypersphere.\n",
    "\n",
    "        Args:\n",
    "            features (torch.Tensor): Template features of shape [B,C,S,S], where\n",
    "            C is the number of channels specified in the constructor.\n",
    "\n",
    "        Returns:\n",
    "            torch.Tensor: Embedding vectors of shape [B,C].\n",
    "        \"\"\"\n",
    "        x = features  # [B, C, S, S]\n",
    "        \n",
    "        x = self.conv1(x)  # [B, C, S - 2, S - 2]\n",
    "        x = F.tanh(x)  # [B, C, S - 2, S - 2]\n",
    "        x = self.conv2(x)  # [B, C, S - 4, S - 4]\n",
    "\n",
    "        # Global Average Pooling (GAP).\n",
    "        x = torch.mean(x, dim=(2, 3))  # [B, C]\n",
    "\n",
    "        # L2 normalization - project the embedding onto a unit hypersphere.\n",
    "        x = F.normalize(x, dim=1)  # [B, C]\n",
    "\n",
    "        return x\n",
    "    \n",
    "    @staticmethod\n",
    "    def _build_conv3x3(n_channels: int) -> nn.Module:\n",
    "        conv = nn.Conv2d(\n",
    "            in_channels=n_channels, out_channels=n_channels, kernel_size=3,\n",
    "            bias=False\n",
    "        )\n",
    "        return conv\n",
    "\n",
    "B = 6\n",
    "S = 15\n",
    "n_channels = 128\n",
    "\n",
    "features = torch.rand((B, n_channels, S, S))\n",
    "model = FeatureEmbCreator(n_channels)\n",
    "embs = model(features)\n",
    "embs.shape"
   ]
  },
  {
   "cell_type": "code",
   "execution_count": null,
   "metadata": {},
   "outputs": [],
   "source": []
  }
 ],
 "metadata": {
  "interpreter": {
   "hash": "f91a5d6e4747d83f2ca8abaaaf7aacd52eac54e528eee770e3eb228d51a3694d"
  },
  "kernelspec": {
   "display_name": "Python 3.7.9 64-bit (system)",
   "language": "python",
   "name": "python3"
  },
  "language_info": {
   "codemirror_mode": {
    "name": "ipython",
    "version": 3
   },
   "file_extension": ".py",
   "mimetype": "text/x-python",
   "name": "python",
   "nbconvert_exporter": "python",
   "pygments_lexer": "ipython3",
   "version": "3.7.9"
  },
  "orig_nbformat": 4
 },
 "nbformat": 4,
 "nbformat_minor": 2
}
